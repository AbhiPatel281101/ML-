{
 "cells": [
  {
   "cell_type": "code",
   "execution_count": 3,
   "id": "679db227",
   "metadata": {
    "_cell_guid": "b1076dfc-b9ad-4769-8c92-a6c4dae69d19",
    "_uuid": "8f2839f25d086af736a60e9eeb907d3b93b6e0e5",
    "execution": {
     "iopub.execute_input": "2024-02-16T17:10:31.264801Z",
     "iopub.status.busy": "2024-02-16T17:10:31.264454Z",
     "iopub.status.idle": "2024-02-16T17:10:32.311880Z",
     "shell.execute_reply": "2024-02-16T17:10:32.310123Z"
    },
    "papermill": {
     "duration": 1.059458,
     "end_time": "2024-02-16T17:10:32.314557",
     "exception": false,
     "start_time": "2024-02-16T17:10:31.255099",
     "status": "completed"
    },
    "tags": []
   },
   "outputs": [
    {
     "data": {
      "text/html": [
       "<div>\n",
       "<style scoped>\n",
       "    .dataframe tbody tr th:only-of-type {\n",
       "        vertical-align: middle;\n",
       "    }\n",
       "\n",
       "    .dataframe tbody tr th {\n",
       "        vertical-align: top;\n",
       "    }\n",
       "\n",
       "    .dataframe thead th {\n",
       "        text-align: right;\n",
       "    }\n",
       "</style>\n",
       "<table border=\"1\" class=\"dataframe\">\n",
       "  <thead>\n",
       "    <tr style=\"text-align: right;\">\n",
       "      <th></th>\n",
       "      <th>Store</th>\n",
       "      <th>Date</th>\n",
       "      <th>Weekly_Sales</th>\n",
       "      <th>Holiday_Flag</th>\n",
       "      <th>Temperature</th>\n",
       "      <th>Fuel_Price</th>\n",
       "      <th>CPI</th>\n",
       "      <th>Unemployment</th>\n",
       "    </tr>\n",
       "  </thead>\n",
       "  <tbody>\n",
       "    <tr>\n",
       "      <th>0</th>\n",
       "      <td>1</td>\n",
       "      <td>05-02-2010</td>\n",
       "      <td>1643690.90</td>\n",
       "      <td>0</td>\n",
       "      <td>42.31</td>\n",
       "      <td>2.572</td>\n",
       "      <td>211.096358</td>\n",
       "      <td>8.106</td>\n",
       "    </tr>\n",
       "    <tr>\n",
       "      <th>1</th>\n",
       "      <td>1</td>\n",
       "      <td>12-02-2010</td>\n",
       "      <td>1641957.44</td>\n",
       "      <td>1</td>\n",
       "      <td>38.51</td>\n",
       "      <td>2.548</td>\n",
       "      <td>211.242170</td>\n",
       "      <td>8.106</td>\n",
       "    </tr>\n",
       "    <tr>\n",
       "      <th>2</th>\n",
       "      <td>1</td>\n",
       "      <td>19-02-2010</td>\n",
       "      <td>1611968.17</td>\n",
       "      <td>0</td>\n",
       "      <td>39.93</td>\n",
       "      <td>2.514</td>\n",
       "      <td>211.289143</td>\n",
       "      <td>8.106</td>\n",
       "    </tr>\n",
       "    <tr>\n",
       "      <th>3</th>\n",
       "      <td>1</td>\n",
       "      <td>26-02-2010</td>\n",
       "      <td>1409727.59</td>\n",
       "      <td>0</td>\n",
       "      <td>46.63</td>\n",
       "      <td>2.561</td>\n",
       "      <td>211.319643</td>\n",
       "      <td>8.106</td>\n",
       "    </tr>\n",
       "    <tr>\n",
       "      <th>4</th>\n",
       "      <td>1</td>\n",
       "      <td>05-03-2010</td>\n",
       "      <td>1554806.68</td>\n",
       "      <td>0</td>\n",
       "      <td>46.50</td>\n",
       "      <td>2.625</td>\n",
       "      <td>211.350143</td>\n",
       "      <td>8.106</td>\n",
       "    </tr>\n",
       "    <tr>\n",
       "      <th>...</th>\n",
       "      <td>...</td>\n",
       "      <td>...</td>\n",
       "      <td>...</td>\n",
       "      <td>...</td>\n",
       "      <td>...</td>\n",
       "      <td>...</td>\n",
       "      <td>...</td>\n",
       "      <td>...</td>\n",
       "    </tr>\n",
       "    <tr>\n",
       "      <th>6430</th>\n",
       "      <td>45</td>\n",
       "      <td>28-09-2012</td>\n",
       "      <td>713173.95</td>\n",
       "      <td>0</td>\n",
       "      <td>64.88</td>\n",
       "      <td>3.997</td>\n",
       "      <td>192.013558</td>\n",
       "      <td>8.684</td>\n",
       "    </tr>\n",
       "    <tr>\n",
       "      <th>6431</th>\n",
       "      <td>45</td>\n",
       "      <td>05-10-2012</td>\n",
       "      <td>733455.07</td>\n",
       "      <td>0</td>\n",
       "      <td>64.89</td>\n",
       "      <td>3.985</td>\n",
       "      <td>192.170412</td>\n",
       "      <td>8.667</td>\n",
       "    </tr>\n",
       "    <tr>\n",
       "      <th>6432</th>\n",
       "      <td>45</td>\n",
       "      <td>12-10-2012</td>\n",
       "      <td>734464.36</td>\n",
       "      <td>0</td>\n",
       "      <td>54.47</td>\n",
       "      <td>4.000</td>\n",
       "      <td>192.327265</td>\n",
       "      <td>8.667</td>\n",
       "    </tr>\n",
       "    <tr>\n",
       "      <th>6433</th>\n",
       "      <td>45</td>\n",
       "      <td>19-10-2012</td>\n",
       "      <td>718125.53</td>\n",
       "      <td>0</td>\n",
       "      <td>56.47</td>\n",
       "      <td>3.969</td>\n",
       "      <td>192.330854</td>\n",
       "      <td>8.667</td>\n",
       "    </tr>\n",
       "    <tr>\n",
       "      <th>6434</th>\n",
       "      <td>45</td>\n",
       "      <td>26-10-2012</td>\n",
       "      <td>760281.43</td>\n",
       "      <td>0</td>\n",
       "      <td>58.85</td>\n",
       "      <td>3.882</td>\n",
       "      <td>192.308899</td>\n",
       "      <td>8.667</td>\n",
       "    </tr>\n",
       "  </tbody>\n",
       "</table>\n",
       "<p>6435 rows × 8 columns</p>\n",
       "</div>"
      ],
      "text/plain": [
       "      Store        Date  Weekly_Sales  Holiday_Flag  Temperature  Fuel_Price  \\\n",
       "0         1  05-02-2010    1643690.90             0        42.31       2.572   \n",
       "1         1  12-02-2010    1641957.44             1        38.51       2.548   \n",
       "2         1  19-02-2010    1611968.17             0        39.93       2.514   \n",
       "3         1  26-02-2010    1409727.59             0        46.63       2.561   \n",
       "4         1  05-03-2010    1554806.68             0        46.50       2.625   \n",
       "...     ...         ...           ...           ...          ...         ...   \n",
       "6430     45  28-09-2012     713173.95             0        64.88       3.997   \n",
       "6431     45  05-10-2012     733455.07             0        64.89       3.985   \n",
       "6432     45  12-10-2012     734464.36             0        54.47       4.000   \n",
       "6433     45  19-10-2012     718125.53             0        56.47       3.969   \n",
       "6434     45  26-10-2012     760281.43             0        58.85       3.882   \n",
       "\n",
       "             CPI  Unemployment  \n",
       "0     211.096358         8.106  \n",
       "1     211.242170         8.106  \n",
       "2     211.289143         8.106  \n",
       "3     211.319643         8.106  \n",
       "4     211.350143         8.106  \n",
       "...          ...           ...  \n",
       "6430  192.013558         8.684  \n",
       "6431  192.170412         8.667  \n",
       "6432  192.327265         8.667  \n",
       "6433  192.330854         8.667  \n",
       "6434  192.308899         8.667  \n",
       "\n",
       "[6435 rows x 8 columns]"
      ]
     },
     "execution_count": 3,
     "metadata": {},
     "output_type": "execute_result"
    }
   ],
   "source": [
    "\n",
    "import numpy as np # linear algebra\n",
    "import pandas as pd # data processing, CSV file I/O (e.g. pd.read_csv)\n",
    "import matplotlib.pyplot as plt\n",
    "import seaborn as sns\n",
    "\n",
    "\n",
    "data= pd.read_csv(r\"F:\\LAMBTON_COLLEGE\\big_data\\Assinment_1\\Walmart_sales.csv\")\n",
    "data"
   ]
  },
  {
   "cell_type": "code",
   "execution_count": null,
   "id": "c000e83d",
   "metadata": {
    "execution": {
     "iopub.execute_input": "2024-02-16T17:10:32.331938Z",
     "iopub.status.busy": "2024-02-16T17:10:32.331485Z",
     "iopub.status.idle": "2024-02-16T17:10:32.376274Z",
     "shell.execute_reply": "2024-02-16T17:10:32.374750Z"
    },
    "papermill": {
     "duration": 0.056756,
     "end_time": "2024-02-16T17:10:32.379185",
     "exception": false,
     "start_time": "2024-02-16T17:10:32.322429",
     "status": "completed"
    },
    "tags": []
   },
   "outputs": [],
   "source": []
  },
  {
   "cell_type": "code",
   "execution_count": 4,
   "id": "0cc111e0",
   "metadata": {
    "execution": {
     "iopub.execute_input": "2024-02-16T17:10:32.395115Z",
     "iopub.status.busy": "2024-02-16T17:10:32.394759Z",
     "iopub.status.idle": "2024-02-16T17:10:32.409418Z",
     "shell.execute_reply": "2024-02-16T17:10:32.408140Z"
    },
    "papermill": {
     "duration": 0.024781,
     "end_time": "2024-02-16T17:10:32.411365",
     "exception": false,
     "start_time": "2024-02-16T17:10:32.386584",
     "status": "completed"
    },
    "tags": []
   },
   "outputs": [
    {
     "data": {
      "text/html": [
       "<div>\n",
       "<style scoped>\n",
       "    .dataframe tbody tr th:only-of-type {\n",
       "        vertical-align: middle;\n",
       "    }\n",
       "\n",
       "    .dataframe tbody tr th {\n",
       "        vertical-align: top;\n",
       "    }\n",
       "\n",
       "    .dataframe thead th {\n",
       "        text-align: right;\n",
       "    }\n",
       "</style>\n",
       "<table border=\"1\" class=\"dataframe\">\n",
       "  <thead>\n",
       "    <tr style=\"text-align: right;\">\n",
       "      <th></th>\n",
       "      <th>Store</th>\n",
       "      <th>Date</th>\n",
       "      <th>Weekly_Sales</th>\n",
       "      <th>Holiday_Flag</th>\n",
       "      <th>Temperature</th>\n",
       "      <th>Fuel_Price</th>\n",
       "      <th>CPI</th>\n",
       "      <th>Unemployment</th>\n",
       "    </tr>\n",
       "  </thead>\n",
       "  <tbody>\n",
       "    <tr>\n",
       "      <th>6430</th>\n",
       "      <td>45</td>\n",
       "      <td>28-09-2012</td>\n",
       "      <td>713173.95</td>\n",
       "      <td>0</td>\n",
       "      <td>64.88</td>\n",
       "      <td>3.997</td>\n",
       "      <td>192.013558</td>\n",
       "      <td>8.684</td>\n",
       "    </tr>\n",
       "    <tr>\n",
       "      <th>6431</th>\n",
       "      <td>45</td>\n",
       "      <td>05-10-2012</td>\n",
       "      <td>733455.07</td>\n",
       "      <td>0</td>\n",
       "      <td>64.89</td>\n",
       "      <td>3.985</td>\n",
       "      <td>192.170412</td>\n",
       "      <td>8.667</td>\n",
       "    </tr>\n",
       "    <tr>\n",
       "      <th>6432</th>\n",
       "      <td>45</td>\n",
       "      <td>12-10-2012</td>\n",
       "      <td>734464.36</td>\n",
       "      <td>0</td>\n",
       "      <td>54.47</td>\n",
       "      <td>4.000</td>\n",
       "      <td>192.327265</td>\n",
       "      <td>8.667</td>\n",
       "    </tr>\n",
       "    <tr>\n",
       "      <th>6433</th>\n",
       "      <td>45</td>\n",
       "      <td>19-10-2012</td>\n",
       "      <td>718125.53</td>\n",
       "      <td>0</td>\n",
       "      <td>56.47</td>\n",
       "      <td>3.969</td>\n",
       "      <td>192.330854</td>\n",
       "      <td>8.667</td>\n",
       "    </tr>\n",
       "    <tr>\n",
       "      <th>6434</th>\n",
       "      <td>45</td>\n",
       "      <td>26-10-2012</td>\n",
       "      <td>760281.43</td>\n",
       "      <td>0</td>\n",
       "      <td>58.85</td>\n",
       "      <td>3.882</td>\n",
       "      <td>192.308899</td>\n",
       "      <td>8.667</td>\n",
       "    </tr>\n",
       "  </tbody>\n",
       "</table>\n",
       "</div>"
      ],
      "text/plain": [
       "      Store        Date  Weekly_Sales  Holiday_Flag  Temperature  Fuel_Price  \\\n",
       "6430     45  28-09-2012     713173.95             0        64.88       3.997   \n",
       "6431     45  05-10-2012     733455.07             0        64.89       3.985   \n",
       "6432     45  12-10-2012     734464.36             0        54.47       4.000   \n",
       "6433     45  19-10-2012     718125.53             0        56.47       3.969   \n",
       "6434     45  26-10-2012     760281.43             0        58.85       3.882   \n",
       "\n",
       "             CPI  Unemployment  \n",
       "6430  192.013558         8.684  \n",
       "6431  192.170412         8.667  \n",
       "6432  192.327265         8.667  \n",
       "6433  192.330854         8.667  \n",
       "6434  192.308899         8.667  "
      ]
     },
     "execution_count": 4,
     "metadata": {},
     "output_type": "execute_result"
    }
   ],
   "source": [
    "data.tail()"
   ]
  },
  {
   "cell_type": "code",
   "execution_count": 5,
   "id": "d34fb029",
   "metadata": {
    "execution": {
     "iopub.execute_input": "2024-02-16T17:10:32.426993Z",
     "iopub.status.busy": "2024-02-16T17:10:32.426662Z",
     "iopub.status.idle": "2024-02-16T17:10:32.457792Z",
     "shell.execute_reply": "2024-02-16T17:10:32.456843Z"
    },
    "papermill": {
     "duration": 0.040956,
     "end_time": "2024-02-16T17:10:32.459536",
     "exception": false,
     "start_time": "2024-02-16T17:10:32.418580",
     "status": "completed"
    },
    "tags": []
   },
   "outputs": [
    {
     "name": "stdout",
     "output_type": "stream",
     "text": [
      "<class 'pandas.core.frame.DataFrame'>\n",
      "RangeIndex: 6435 entries, 0 to 6434\n",
      "Data columns (total 8 columns):\n",
      " #   Column        Non-Null Count  Dtype  \n",
      "---  ------        --------------  -----  \n",
      " 0   Store         6435 non-null   int64  \n",
      " 1   Date          6435 non-null   object \n",
      " 2   Weekly_Sales  6435 non-null   float64\n",
      " 3   Holiday_Flag  6435 non-null   int64  \n",
      " 4   Temperature   6435 non-null   float64\n",
      " 5   Fuel_Price    6435 non-null   float64\n",
      " 6   CPI           6435 non-null   float64\n",
      " 7   Unemployment  6435 non-null   float64\n",
      "dtypes: float64(5), int64(2), object(1)\n",
      "memory usage: 402.3+ KB\n"
     ]
    }
   ],
   "source": [
    "data.info()"
   ]
  },
  {
   "cell_type": "code",
   "execution_count": 6,
   "id": "ae953bb5",
   "metadata": {
    "execution": {
     "iopub.execute_input": "2024-02-16T17:10:32.475606Z",
     "iopub.status.busy": "2024-02-16T17:10:32.475275Z",
     "iopub.status.idle": "2024-02-16T17:10:32.480013Z",
     "shell.execute_reply": "2024-02-16T17:10:32.479015Z"
    },
    "papermill": {
     "duration": 0.014903,
     "end_time": "2024-02-16T17:10:32.481798",
     "exception": false,
     "start_time": "2024-02-16T17:10:32.466895",
     "status": "completed"
    },
    "tags": []
   },
   "outputs": [],
   "source": [
    "pd.options.display.float_format = '{:,.0f}'.format"
   ]
  },
  {
   "cell_type": "code",
   "execution_count": 7,
   "id": "640dd002",
   "metadata": {
    "execution": {
     "iopub.execute_input": "2024-02-16T17:10:32.498059Z",
     "iopub.status.busy": "2024-02-16T17:10:32.497774Z",
     "iopub.status.idle": "2024-02-16T17:10:32.526354Z",
     "shell.execute_reply": "2024-02-16T17:10:32.525230Z"
    },
    "papermill": {
     "duration": 0.039062,
     "end_time": "2024-02-16T17:10:32.528455",
     "exception": false,
     "start_time": "2024-02-16T17:10:32.489393",
     "status": "completed"
    },
    "tags": []
   },
   "outputs": [
    {
     "data": {
      "text/html": [
       "<div>\n",
       "<style scoped>\n",
       "    .dataframe tbody tr th:only-of-type {\n",
       "        vertical-align: middle;\n",
       "    }\n",
       "\n",
       "    .dataframe tbody tr th {\n",
       "        vertical-align: top;\n",
       "    }\n",
       "\n",
       "    .dataframe thead th {\n",
       "        text-align: right;\n",
       "    }\n",
       "</style>\n",
       "<table border=\"1\" class=\"dataframe\">\n",
       "  <thead>\n",
       "    <tr style=\"text-align: right;\">\n",
       "      <th></th>\n",
       "      <th>Store</th>\n",
       "      <th>Weekly_Sales</th>\n",
       "      <th>Holiday_Flag</th>\n",
       "      <th>Temperature</th>\n",
       "      <th>Fuel_Price</th>\n",
       "      <th>CPI</th>\n",
       "      <th>Unemployment</th>\n",
       "    </tr>\n",
       "  </thead>\n",
       "  <tbody>\n",
       "    <tr>\n",
       "      <th>count</th>\n",
       "      <td>6,435</td>\n",
       "      <td>6,435</td>\n",
       "      <td>6,435</td>\n",
       "      <td>6,435</td>\n",
       "      <td>6,435</td>\n",
       "      <td>6,435</td>\n",
       "      <td>6,435</td>\n",
       "    </tr>\n",
       "    <tr>\n",
       "      <th>mean</th>\n",
       "      <td>23</td>\n",
       "      <td>1,046,965</td>\n",
       "      <td>0</td>\n",
       "      <td>61</td>\n",
       "      <td>3</td>\n",
       "      <td>172</td>\n",
       "      <td>8</td>\n",
       "    </tr>\n",
       "    <tr>\n",
       "      <th>std</th>\n",
       "      <td>13</td>\n",
       "      <td>564,367</td>\n",
       "      <td>0</td>\n",
       "      <td>18</td>\n",
       "      <td>0</td>\n",
       "      <td>39</td>\n",
       "      <td>2</td>\n",
       "    </tr>\n",
       "    <tr>\n",
       "      <th>min</th>\n",
       "      <td>1</td>\n",
       "      <td>209,986</td>\n",
       "      <td>0</td>\n",
       "      <td>-2</td>\n",
       "      <td>2</td>\n",
       "      <td>126</td>\n",
       "      <td>4</td>\n",
       "    </tr>\n",
       "    <tr>\n",
       "      <th>25%</th>\n",
       "      <td>12</td>\n",
       "      <td>553,350</td>\n",
       "      <td>0</td>\n",
       "      <td>47</td>\n",
       "      <td>3</td>\n",
       "      <td>132</td>\n",
       "      <td>7</td>\n",
       "    </tr>\n",
       "    <tr>\n",
       "      <th>50%</th>\n",
       "      <td>23</td>\n",
       "      <td>960,746</td>\n",
       "      <td>0</td>\n",
       "      <td>63</td>\n",
       "      <td>3</td>\n",
       "      <td>183</td>\n",
       "      <td>8</td>\n",
       "    </tr>\n",
       "    <tr>\n",
       "      <th>75%</th>\n",
       "      <td>34</td>\n",
       "      <td>1,420,159</td>\n",
       "      <td>0</td>\n",
       "      <td>75</td>\n",
       "      <td>4</td>\n",
       "      <td>213</td>\n",
       "      <td>9</td>\n",
       "    </tr>\n",
       "    <tr>\n",
       "      <th>max</th>\n",
       "      <td>45</td>\n",
       "      <td>3,818,686</td>\n",
       "      <td>1</td>\n",
       "      <td>100</td>\n",
       "      <td>4</td>\n",
       "      <td>227</td>\n",
       "      <td>14</td>\n",
       "    </tr>\n",
       "  </tbody>\n",
       "</table>\n",
       "</div>"
      ],
      "text/plain": [
       "       Store  Weekly_Sales  Holiday_Flag  Temperature  Fuel_Price   CPI  \\\n",
       "count  6,435         6,435         6,435        6,435       6,435 6,435   \n",
       "mean      23     1,046,965             0           61           3   172   \n",
       "std       13       564,367             0           18           0    39   \n",
       "min        1       209,986             0           -2           2   126   \n",
       "25%       12       553,350             0           47           3   132   \n",
       "50%       23       960,746             0           63           3   183   \n",
       "75%       34     1,420,159             0           75           4   213   \n",
       "max       45     3,818,686             1          100           4   227   \n",
       "\n",
       "       Unemployment  \n",
       "count         6,435  \n",
       "mean              8  \n",
       "std               2  \n",
       "min               4  \n",
       "25%               7  \n",
       "50%               8  \n",
       "75%               9  \n",
       "max              14  "
      ]
     },
     "execution_count": 7,
     "metadata": {},
     "output_type": "execute_result"
    }
   ],
   "source": [
    "data.describe()"
   ]
  },
  {
   "cell_type": "code",
   "execution_count": 8,
   "id": "67b6ebaf",
   "metadata": {
    "execution": {
     "iopub.execute_input": "2024-02-16T17:10:32.545365Z",
     "iopub.status.busy": "2024-02-16T17:10:32.545011Z",
     "iopub.status.idle": "2024-02-16T17:10:32.550833Z",
     "shell.execute_reply": "2024-02-16T17:10:32.549217Z"
    },
    "papermill": {
     "duration": 0.017238,
     "end_time": "2024-02-16T17:10:32.553391",
     "exception": false,
     "start_time": "2024-02-16T17:10:32.536153",
     "status": "completed"
    },
    "tags": []
   },
   "outputs": [],
   "source": [
    "data.columns = data.columns.str.lower()"
   ]
  },
  {
   "cell_type": "code",
   "execution_count": 9,
   "id": "cfe6eb42",
   "metadata": {
    "execution": {
     "iopub.execute_input": "2024-02-16T17:10:32.572183Z",
     "iopub.status.busy": "2024-02-16T17:10:32.571811Z",
     "iopub.status.idle": "2024-02-16T17:10:32.578664Z",
     "shell.execute_reply": "2024-02-16T17:10:32.577589Z"
    },
    "papermill": {
     "duration": 0.018466,
     "end_time": "2024-02-16T17:10:32.580366",
     "exception": false,
     "start_time": "2024-02-16T17:10:32.561900",
     "status": "completed"
    },
    "tags": []
   },
   "outputs": [
    {
     "data": {
      "text/plain": [
       "Index(['store', 'date', 'weekly_sales', 'holiday_flag', 'temperature',\n",
       "       'fuel_price', 'cpi', 'unemployment'],\n",
       "      dtype='object')"
      ]
     },
     "execution_count": 9,
     "metadata": {},
     "output_type": "execute_result"
    }
   ],
   "source": [
    "data.columns"
   ]
  },
  {
   "cell_type": "markdown",
   "id": "56910d84",
   "metadata": {
    "papermill": {
     "duration": 0.007219,
     "end_time": "2024-02-16T17:10:32.595110",
     "exception": false,
     "start_time": "2024-02-16T17:10:32.587891",
     "status": "completed"
    },
    "tags": []
   },
   "source": [
    "# Checking Missing values"
   ]
  },
  {
   "cell_type": "code",
   "execution_count": 10,
   "id": "f2dba5a6",
   "metadata": {
    "execution": {
     "iopub.execute_input": "2024-02-16T17:10:32.612979Z",
     "iopub.status.busy": "2024-02-16T17:10:32.612647Z",
     "iopub.status.idle": "2024-02-16T17:10:32.621102Z",
     "shell.execute_reply": "2024-02-16T17:10:32.620106Z"
    },
    "papermill": {
     "duration": 0.020592,
     "end_time": "2024-02-16T17:10:32.623289",
     "exception": false,
     "start_time": "2024-02-16T17:10:32.602697",
     "status": "completed"
    },
    "tags": []
   },
   "outputs": [
    {
     "data": {
      "text/plain": [
       "store           0\n",
       "date            0\n",
       "weekly_sales    0\n",
       "holiday_flag    0\n",
       "temperature     0\n",
       "fuel_price      0\n",
       "cpi             0\n",
       "unemployment    0\n",
       "dtype: int64"
      ]
     },
     "execution_count": 10,
     "metadata": {},
     "output_type": "execute_result"
    }
   ],
   "source": [
    "data.isna().sum()"
   ]
  },
  {
   "cell_type": "code",
   "execution_count": 11,
   "id": "d0efdd52",
   "metadata": {
    "execution": {
     "iopub.execute_input": "2024-02-16T17:10:32.641069Z",
     "iopub.status.busy": "2024-02-16T17:10:32.640698Z",
     "iopub.status.idle": "2024-02-16T17:10:32.649271Z",
     "shell.execute_reply": "2024-02-16T17:10:32.648619Z"
    },
    "papermill": {
     "duration": 0.01949,
     "end_time": "2024-02-16T17:10:32.650972",
     "exception": false,
     "start_time": "2024-02-16T17:10:32.631482",
     "status": "completed"
    },
    "tags": []
   },
   "outputs": [
    {
     "data": {
      "text/plain": [
       "0"
      ]
     },
     "execution_count": 11,
     "metadata": {},
     "output_type": "execute_result"
    }
   ],
   "source": [
    "# checking duplicates\n",
    "data.duplicated().sum()"
   ]
  },
  {
   "cell_type": "markdown",
   "id": "f1ec9563",
   "metadata": {
    "papermill": {
     "duration": 0.007749,
     "end_time": "2024-02-16T17:10:32.667034",
     "exception": false,
     "start_time": "2024-02-16T17:10:32.659285",
     "status": "completed"
    },
    "tags": []
   },
   "source": [
    "# Feature Engineering"
   ]
  },
  {
   "cell_type": "code",
   "execution_count": 12,
   "id": "3c3b2d6c",
   "metadata": {
    "execution": {
     "iopub.execute_input": "2024-02-16T17:10:32.684892Z",
     "iopub.status.busy": "2024-02-16T17:10:32.684578Z",
     "iopub.status.idle": "2024-02-16T17:10:32.695720Z",
     "shell.execute_reply": "2024-02-16T17:10:32.694683Z"
    },
    "papermill": {
     "duration": 0.022713,
     "end_time": "2024-02-16T17:10:32.698020",
     "exception": false,
     "start_time": "2024-02-16T17:10:32.675307",
     "status": "completed"
    },
    "tags": []
   },
   "outputs": [],
   "source": [
    "# Correcting the date format\n",
    "data['date'] = pd.to_datetime(data['date'], format = \"%d-%m-%Y\")"
   ]
  },
  {
   "cell_type": "code",
   "execution_count": 13,
   "id": "486152c4",
   "metadata": {
    "execution": {
     "iopub.execute_input": "2024-02-16T17:10:32.715887Z",
     "iopub.status.busy": "2024-02-16T17:10:32.715547Z",
     "iopub.status.idle": "2024-02-16T17:10:32.727468Z",
     "shell.execute_reply": "2024-02-16T17:10:32.726354Z"
    },
    "papermill": {
     "duration": 0.02316,
     "end_time": "2024-02-16T17:10:32.729437",
     "exception": false,
     "start_time": "2024-02-16T17:10:32.706277",
     "status": "completed"
    },
    "tags": []
   },
   "outputs": [
    {
     "name": "stdout",
     "output_type": "stream",
     "text": [
      "<class 'pandas.core.frame.DataFrame'>\n",
      "RangeIndex: 6435 entries, 0 to 6434\n",
      "Data columns (total 8 columns):\n",
      " #   Column        Non-Null Count  Dtype         \n",
      "---  ------        --------------  -----         \n",
      " 0   store         6435 non-null   int64         \n",
      " 1   date          6435 non-null   datetime64[ns]\n",
      " 2   weekly_sales  6435 non-null   float64       \n",
      " 3   holiday_flag  6435 non-null   int64         \n",
      " 4   temperature   6435 non-null   float64       \n",
      " 5   fuel_price    6435 non-null   float64       \n",
      " 6   cpi           6435 non-null   float64       \n",
      " 7   unemployment  6435 non-null   float64       \n",
      "dtypes: datetime64[ns](1), float64(5), int64(2)\n",
      "memory usage: 402.3 KB\n"
     ]
    }
   ],
   "source": [
    "data.info()"
   ]
  },
  {
   "cell_type": "code",
   "execution_count": 14,
   "id": "1900cfc4",
   "metadata": {
    "execution": {
     "iopub.execute_input": "2024-02-16T17:10:32.747252Z",
     "iopub.status.busy": "2024-02-16T17:10:32.746884Z",
     "iopub.status.idle": "2024-02-16T17:10:32.754345Z",
     "shell.execute_reply": "2024-02-16T17:10:32.753141Z"
    },
    "papermill": {
     "duration": 0.019297,
     "end_time": "2024-02-16T17:10:32.756882",
     "exception": false,
     "start_time": "2024-02-16T17:10:32.737585",
     "status": "completed"
    },
    "tags": []
   },
   "outputs": [],
   "source": [
    "import calendar\n",
    "data['year'] = data['date'].dt.year"
   ]
  },
  {
   "cell_type": "code",
   "execution_count": 15,
   "id": "7aaad422",
   "metadata": {
    "execution": {
     "iopub.execute_input": "2024-02-16T17:10:32.776019Z",
     "iopub.status.busy": "2024-02-16T17:10:32.775691Z",
     "iopub.status.idle": "2024-02-16T17:10:32.787840Z",
     "shell.execute_reply": "2024-02-16T17:10:32.786779Z"
    },
    "papermill": {
     "duration": 0.023881,
     "end_time": "2024-02-16T17:10:32.789699",
     "exception": false,
     "start_time": "2024-02-16T17:10:32.765818",
     "status": "completed"
    },
    "tags": []
   },
   "outputs": [
    {
     "data": {
      "text/html": [
       "<div>\n",
       "<style scoped>\n",
       "    .dataframe tbody tr th:only-of-type {\n",
       "        vertical-align: middle;\n",
       "    }\n",
       "\n",
       "    .dataframe tbody tr th {\n",
       "        vertical-align: top;\n",
       "    }\n",
       "\n",
       "    .dataframe thead th {\n",
       "        text-align: right;\n",
       "    }\n",
       "</style>\n",
       "<table border=\"1\" class=\"dataframe\">\n",
       "  <thead>\n",
       "    <tr style=\"text-align: right;\">\n",
       "      <th></th>\n",
       "      <th>store</th>\n",
       "      <th>date</th>\n",
       "      <th>weekly_sales</th>\n",
       "      <th>holiday_flag</th>\n",
       "      <th>temperature</th>\n",
       "      <th>fuel_price</th>\n",
       "      <th>cpi</th>\n",
       "      <th>unemployment</th>\n",
       "      <th>year</th>\n",
       "    </tr>\n",
       "  </thead>\n",
       "  <tbody>\n",
       "    <tr>\n",
       "      <th>0</th>\n",
       "      <td>1</td>\n",
       "      <td>2010-02-05</td>\n",
       "      <td>1,643,691</td>\n",
       "      <td>0</td>\n",
       "      <td>42</td>\n",
       "      <td>3</td>\n",
       "      <td>211</td>\n",
       "      <td>8</td>\n",
       "      <td>2010</td>\n",
       "    </tr>\n",
       "    <tr>\n",
       "      <th>1</th>\n",
       "      <td>1</td>\n",
       "      <td>2010-02-12</td>\n",
       "      <td>1,641,957</td>\n",
       "      <td>1</td>\n",
       "      <td>39</td>\n",
       "      <td>3</td>\n",
       "      <td>211</td>\n",
       "      <td>8</td>\n",
       "      <td>2010</td>\n",
       "    </tr>\n",
       "    <tr>\n",
       "      <th>2</th>\n",
       "      <td>1</td>\n",
       "      <td>2010-02-19</td>\n",
       "      <td>1,611,968</td>\n",
       "      <td>0</td>\n",
       "      <td>40</td>\n",
       "      <td>3</td>\n",
       "      <td>211</td>\n",
       "      <td>8</td>\n",
       "      <td>2010</td>\n",
       "    </tr>\n",
       "    <tr>\n",
       "      <th>3</th>\n",
       "      <td>1</td>\n",
       "      <td>2010-02-26</td>\n",
       "      <td>1,409,728</td>\n",
       "      <td>0</td>\n",
       "      <td>47</td>\n",
       "      <td>3</td>\n",
       "      <td>211</td>\n",
       "      <td>8</td>\n",
       "      <td>2010</td>\n",
       "    </tr>\n",
       "    <tr>\n",
       "      <th>4</th>\n",
       "      <td>1</td>\n",
       "      <td>2010-03-05</td>\n",
       "      <td>1,554,807</td>\n",
       "      <td>0</td>\n",
       "      <td>46</td>\n",
       "      <td>3</td>\n",
       "      <td>211</td>\n",
       "      <td>8</td>\n",
       "      <td>2010</td>\n",
       "    </tr>\n",
       "  </tbody>\n",
       "</table>\n",
       "</div>"
      ],
      "text/plain": [
       "   store       date  weekly_sales  holiday_flag  temperature  fuel_price  cpi  \\\n",
       "0      1 2010-02-05     1,643,691             0           42           3  211   \n",
       "1      1 2010-02-12     1,641,957             1           39           3  211   \n",
       "2      1 2010-02-19     1,611,968             0           40           3  211   \n",
       "3      1 2010-02-26     1,409,728             0           47           3  211   \n",
       "4      1 2010-03-05     1,554,807             0           46           3  211   \n",
       "\n",
       "   unemployment  year  \n",
       "0             8  2010  \n",
       "1             8  2010  \n",
       "2             8  2010  \n",
       "3             8  2010  \n",
       "4             8  2010  "
      ]
     },
     "execution_count": 15,
     "metadata": {},
     "output_type": "execute_result"
    }
   ],
   "source": [
    "data.head()"
   ]
  },
  {
   "cell_type": "code",
   "execution_count": 16,
   "id": "bd1a8b08",
   "metadata": {
    "execution": {
     "iopub.execute_input": "2024-02-16T17:10:32.807909Z",
     "iopub.status.busy": "2024-02-16T17:10:32.807570Z",
     "iopub.status.idle": "2024-02-16T17:10:32.820522Z",
     "shell.execute_reply": "2024-02-16T17:10:32.819753Z"
    },
    "papermill": {
     "duration": 0.024936,
     "end_time": "2024-02-16T17:10:32.822821",
     "exception": false,
     "start_time": "2024-02-16T17:10:32.797885",
     "status": "completed"
    },
    "tags": []
   },
   "outputs": [
    {
     "data": {
      "text/html": [
       "<div>\n",
       "<style scoped>\n",
       "    .dataframe tbody tr th:only-of-type {\n",
       "        vertical-align: middle;\n",
       "    }\n",
       "\n",
       "    .dataframe tbody tr th {\n",
       "        vertical-align: top;\n",
       "    }\n",
       "\n",
       "    .dataframe thead th {\n",
       "        text-align: right;\n",
       "    }\n",
       "</style>\n",
       "<table border=\"1\" class=\"dataframe\">\n",
       "  <thead>\n",
       "    <tr style=\"text-align: right;\">\n",
       "      <th></th>\n",
       "      <th>store</th>\n",
       "      <th>date</th>\n",
       "      <th>weekly_sales</th>\n",
       "      <th>holiday_flag</th>\n",
       "      <th>temperature</th>\n",
       "      <th>fuel_price</th>\n",
       "      <th>cpi</th>\n",
       "      <th>unemployment</th>\n",
       "      <th>year</th>\n",
       "      <th>quarter</th>\n",
       "    </tr>\n",
       "  </thead>\n",
       "  <tbody>\n",
       "    <tr>\n",
       "      <th>0</th>\n",
       "      <td>1</td>\n",
       "      <td>2010-02-05</td>\n",
       "      <td>1,643,691</td>\n",
       "      <td>0</td>\n",
       "      <td>42</td>\n",
       "      <td>3</td>\n",
       "      <td>211</td>\n",
       "      <td>8</td>\n",
       "      <td>2010</td>\n",
       "      <td>1</td>\n",
       "    </tr>\n",
       "    <tr>\n",
       "      <th>1</th>\n",
       "      <td>1</td>\n",
       "      <td>2010-02-12</td>\n",
       "      <td>1,641,957</td>\n",
       "      <td>1</td>\n",
       "      <td>39</td>\n",
       "      <td>3</td>\n",
       "      <td>211</td>\n",
       "      <td>8</td>\n",
       "      <td>2010</td>\n",
       "      <td>1</td>\n",
       "    </tr>\n",
       "    <tr>\n",
       "      <th>2</th>\n",
       "      <td>1</td>\n",
       "      <td>2010-02-19</td>\n",
       "      <td>1,611,968</td>\n",
       "      <td>0</td>\n",
       "      <td>40</td>\n",
       "      <td>3</td>\n",
       "      <td>211</td>\n",
       "      <td>8</td>\n",
       "      <td>2010</td>\n",
       "      <td>1</td>\n",
       "    </tr>\n",
       "    <tr>\n",
       "      <th>3</th>\n",
       "      <td>1</td>\n",
       "      <td>2010-02-26</td>\n",
       "      <td>1,409,728</td>\n",
       "      <td>0</td>\n",
       "      <td>47</td>\n",
       "      <td>3</td>\n",
       "      <td>211</td>\n",
       "      <td>8</td>\n",
       "      <td>2010</td>\n",
       "      <td>1</td>\n",
       "    </tr>\n",
       "    <tr>\n",
       "      <th>4</th>\n",
       "      <td>1</td>\n",
       "      <td>2010-03-05</td>\n",
       "      <td>1,554,807</td>\n",
       "      <td>0</td>\n",
       "      <td>46</td>\n",
       "      <td>3</td>\n",
       "      <td>211</td>\n",
       "      <td>8</td>\n",
       "      <td>2010</td>\n",
       "      <td>1</td>\n",
       "    </tr>\n",
       "  </tbody>\n",
       "</table>\n",
       "</div>"
      ],
      "text/plain": [
       "   store       date  weekly_sales  holiday_flag  temperature  fuel_price  cpi  \\\n",
       "0      1 2010-02-05     1,643,691             0           42           3  211   \n",
       "1      1 2010-02-12     1,641,957             1           39           3  211   \n",
       "2      1 2010-02-19     1,611,968             0           40           3  211   \n",
       "3      1 2010-02-26     1,409,728             0           47           3  211   \n",
       "4      1 2010-03-05     1,554,807             0           46           3  211   \n",
       "\n",
       "   unemployment  year  quarter  \n",
       "0             8  2010        1  \n",
       "1             8  2010        1  \n",
       "2             8  2010        1  \n",
       "3             8  2010        1  \n",
       "4             8  2010        1  "
      ]
     },
     "execution_count": 16,
     "metadata": {},
     "output_type": "execute_result"
    }
   ],
   "source": [
    "data['quarter'] = data['date'].dt.quarter\n",
    "data.head()"
   ]
  },
  {
   "cell_type": "code",
   "execution_count": 17,
   "id": "e4a9080c",
   "metadata": {
    "execution": {
     "iopub.execute_input": "2024-02-16T17:10:32.840863Z",
     "iopub.status.busy": "2024-02-16T17:10:32.840549Z",
     "iopub.status.idle": "2024-02-16T17:10:32.850370Z",
     "shell.execute_reply": "2024-02-16T17:10:32.848773Z"
    },
    "papermill": {
     "duration": 0.021188,
     "end_time": "2024-02-16T17:10:32.852328",
     "exception": false,
     "start_time": "2024-02-16T17:10:32.831140",
     "status": "completed"
    },
    "tags": []
   },
   "outputs": [
    {
     "data": {
      "text/plain": [
       "quarter\n",
       "3    1800\n",
       "2    1755\n",
       "1    1485\n",
       "4    1395\n",
       "Name: count, dtype: int64"
      ]
     },
     "execution_count": 17,
     "metadata": {},
     "output_type": "execute_result"
    }
   ],
   "source": [
    "data['quarter'].value_counts()"
   ]
  },
  {
   "cell_type": "code",
   "execution_count": 18,
   "id": "ca61ecee",
   "metadata": {
    "execution": {
     "iopub.execute_input": "2024-02-16T17:10:32.870398Z",
     "iopub.status.busy": "2024-02-16T17:10:32.870059Z",
     "iopub.status.idle": "2024-02-16T17:10:32.875127Z",
     "shell.execute_reply": "2024-02-16T17:10:32.873734Z"
    },
    "papermill": {
     "duration": 0.016338,
     "end_time": "2024-02-16T17:10:32.876878",
     "exception": false,
     "start_time": "2024-02-16T17:10:32.860540",
     "status": "completed"
    },
    "tags": []
   },
   "outputs": [],
   "source": [
    "def Sesson_getter(quarter):\n",
    "    if quarter ==1:\n",
    "        return 'Winter'\n",
    "    elif quarter == 2:\n",
    "        return 'Spring'\n",
    "    elif quarter == 3:\n",
    "        return 'Summer'\n",
    "    else:\n",
    "        return 'Fall'"
   ]
  },
  {
   "cell_type": "code",
   "execution_count": 19,
   "id": "5c40b091",
   "metadata": {
    "execution": {
     "iopub.execute_input": "2024-02-16T17:10:32.895014Z",
     "iopub.status.busy": "2024-02-16T17:10:32.894695Z",
     "iopub.status.idle": "2024-02-16T17:10:32.908664Z",
     "shell.execute_reply": "2024-02-16T17:10:32.907507Z"
    },
    "papermill": {
     "duration": 0.025123,
     "end_time": "2024-02-16T17:10:32.910509",
     "exception": false,
     "start_time": "2024-02-16T17:10:32.885386",
     "status": "completed"
    },
    "tags": []
   },
   "outputs": [
    {
     "data": {
      "text/html": [
       "<div>\n",
       "<style scoped>\n",
       "    .dataframe tbody tr th:only-of-type {\n",
       "        vertical-align: middle;\n",
       "    }\n",
       "\n",
       "    .dataframe tbody tr th {\n",
       "        vertical-align: top;\n",
       "    }\n",
       "\n",
       "    .dataframe thead th {\n",
       "        text-align: right;\n",
       "    }\n",
       "</style>\n",
       "<table border=\"1\" class=\"dataframe\">\n",
       "  <thead>\n",
       "    <tr style=\"text-align: right;\">\n",
       "      <th></th>\n",
       "      <th>store</th>\n",
       "      <th>date</th>\n",
       "      <th>weekly_sales</th>\n",
       "      <th>holiday_flag</th>\n",
       "      <th>temperature</th>\n",
       "      <th>fuel_price</th>\n",
       "      <th>cpi</th>\n",
       "      <th>unemployment</th>\n",
       "      <th>year</th>\n",
       "      <th>quarter</th>\n",
       "      <th>season</th>\n",
       "    </tr>\n",
       "  </thead>\n",
       "  <tbody>\n",
       "    <tr>\n",
       "      <th>0</th>\n",
       "      <td>1</td>\n",
       "      <td>2010-02-05</td>\n",
       "      <td>1,643,691</td>\n",
       "      <td>0</td>\n",
       "      <td>42</td>\n",
       "      <td>3</td>\n",
       "      <td>211</td>\n",
       "      <td>8</td>\n",
       "      <td>2010</td>\n",
       "      <td>1</td>\n",
       "      <td>Winter</td>\n",
       "    </tr>\n",
       "    <tr>\n",
       "      <th>1</th>\n",
       "      <td>1</td>\n",
       "      <td>2010-02-12</td>\n",
       "      <td>1,641,957</td>\n",
       "      <td>1</td>\n",
       "      <td>39</td>\n",
       "      <td>3</td>\n",
       "      <td>211</td>\n",
       "      <td>8</td>\n",
       "      <td>2010</td>\n",
       "      <td>1</td>\n",
       "      <td>Winter</td>\n",
       "    </tr>\n",
       "    <tr>\n",
       "      <th>2</th>\n",
       "      <td>1</td>\n",
       "      <td>2010-02-19</td>\n",
       "      <td>1,611,968</td>\n",
       "      <td>0</td>\n",
       "      <td>40</td>\n",
       "      <td>3</td>\n",
       "      <td>211</td>\n",
       "      <td>8</td>\n",
       "      <td>2010</td>\n",
       "      <td>1</td>\n",
       "      <td>Winter</td>\n",
       "    </tr>\n",
       "    <tr>\n",
       "      <th>3</th>\n",
       "      <td>1</td>\n",
       "      <td>2010-02-26</td>\n",
       "      <td>1,409,728</td>\n",
       "      <td>0</td>\n",
       "      <td>47</td>\n",
       "      <td>3</td>\n",
       "      <td>211</td>\n",
       "      <td>8</td>\n",
       "      <td>2010</td>\n",
       "      <td>1</td>\n",
       "      <td>Winter</td>\n",
       "    </tr>\n",
       "    <tr>\n",
       "      <th>4</th>\n",
       "      <td>1</td>\n",
       "      <td>2010-03-05</td>\n",
       "      <td>1,554,807</td>\n",
       "      <td>0</td>\n",
       "      <td>46</td>\n",
       "      <td>3</td>\n",
       "      <td>211</td>\n",
       "      <td>8</td>\n",
       "      <td>2010</td>\n",
       "      <td>1</td>\n",
       "      <td>Winter</td>\n",
       "    </tr>\n",
       "  </tbody>\n",
       "</table>\n",
       "</div>"
      ],
      "text/plain": [
       "   store       date  weekly_sales  holiday_flag  temperature  fuel_price  cpi  \\\n",
       "0      1 2010-02-05     1,643,691             0           42           3  211   \n",
       "1      1 2010-02-12     1,641,957             1           39           3  211   \n",
       "2      1 2010-02-19     1,611,968             0           40           3  211   \n",
       "3      1 2010-02-26     1,409,728             0           47           3  211   \n",
       "4      1 2010-03-05     1,554,807             0           46           3  211   \n",
       "\n",
       "   unemployment  year  quarter  season  \n",
       "0             8  2010        1  Winter  \n",
       "1             8  2010        1  Winter  \n",
       "2             8  2010        1  Winter  \n",
       "3             8  2010        1  Winter  \n",
       "4             8  2010        1  Winter  "
      ]
     },
     "execution_count": 19,
     "metadata": {},
     "output_type": "execute_result"
    }
   ],
   "source": [
    "data['season'] = data['quarter'].apply(Sesson_getter)\n",
    "data.head()"
   ]
  },
  {
   "cell_type": "code",
   "execution_count": 20,
   "id": "0f2a5937",
   "metadata": {
    "execution": {
     "iopub.execute_input": "2024-02-16T17:10:32.929559Z",
     "iopub.status.busy": "2024-02-16T17:10:32.929119Z",
     "iopub.status.idle": "2024-02-16T17:10:32.938310Z",
     "shell.execute_reply": "2024-02-16T17:10:32.936948Z"
    },
    "papermill": {
     "duration": 0.021592,
     "end_time": "2024-02-16T17:10:32.940909",
     "exception": false,
     "start_time": "2024-02-16T17:10:32.919317",
     "status": "completed"
    },
    "tags": []
   },
   "outputs": [
    {
     "data": {
      "text/plain": [
       "season\n",
       "Summer    1800\n",
       "Spring    1755\n",
       "Winter    1485\n",
       "Fall      1395\n",
       "Name: count, dtype: int64"
      ]
     },
     "execution_count": 20,
     "metadata": {},
     "output_type": "execute_result"
    }
   ],
   "source": [
    "data['season'].value_counts()"
   ]
  },
  {
   "cell_type": "code",
   "execution_count": 21,
   "id": "727e7bfd",
   "metadata": {
    "execution": {
     "iopub.execute_input": "2024-02-16T17:10:32.959608Z",
     "iopub.status.busy": "2024-02-16T17:10:32.959261Z",
     "iopub.status.idle": "2024-02-16T17:10:32.972228Z",
     "shell.execute_reply": "2024-02-16T17:10:32.971270Z"
    },
    "papermill": {
     "duration": 0.02446,
     "end_time": "2024-02-16T17:10:32.974049",
     "exception": false,
     "start_time": "2024-02-16T17:10:32.949589",
     "status": "completed"
    },
    "tags": []
   },
   "outputs": [
    {
     "data": {
      "text/html": [
       "<div>\n",
       "<style scoped>\n",
       "    .dataframe tbody tr th:only-of-type {\n",
       "        vertical-align: middle;\n",
       "    }\n",
       "\n",
       "    .dataframe tbody tr th {\n",
       "        vertical-align: top;\n",
       "    }\n",
       "\n",
       "    .dataframe thead th {\n",
       "        text-align: right;\n",
       "    }\n",
       "</style>\n",
       "<table border=\"1\" class=\"dataframe\">\n",
       "  <thead>\n",
       "    <tr style=\"text-align: right;\">\n",
       "      <th></th>\n",
       "      <th>store</th>\n",
       "      <th>date</th>\n",
       "      <th>weekly_sales</th>\n",
       "      <th>holiday_flag</th>\n",
       "      <th>temperature</th>\n",
       "      <th>fuel_price</th>\n",
       "      <th>cpi</th>\n",
       "      <th>unemployment</th>\n",
       "      <th>year</th>\n",
       "      <th>quarter</th>\n",
       "      <th>season</th>\n",
       "      <th>month</th>\n",
       "    </tr>\n",
       "  </thead>\n",
       "  <tbody>\n",
       "    <tr>\n",
       "      <th>0</th>\n",
       "      <td>1</td>\n",
       "      <td>2010-02-05</td>\n",
       "      <td>1,643,691</td>\n",
       "      <td>0</td>\n",
       "      <td>42</td>\n",
       "      <td>3</td>\n",
       "      <td>211</td>\n",
       "      <td>8</td>\n",
       "      <td>2010</td>\n",
       "      <td>1</td>\n",
       "      <td>Winter</td>\n",
       "      <td>2</td>\n",
       "    </tr>\n",
       "    <tr>\n",
       "      <th>1</th>\n",
       "      <td>1</td>\n",
       "      <td>2010-02-12</td>\n",
       "      <td>1,641,957</td>\n",
       "      <td>1</td>\n",
       "      <td>39</td>\n",
       "      <td>3</td>\n",
       "      <td>211</td>\n",
       "      <td>8</td>\n",
       "      <td>2010</td>\n",
       "      <td>1</td>\n",
       "      <td>Winter</td>\n",
       "      <td>2</td>\n",
       "    </tr>\n",
       "    <tr>\n",
       "      <th>2</th>\n",
       "      <td>1</td>\n",
       "      <td>2010-02-19</td>\n",
       "      <td>1,611,968</td>\n",
       "      <td>0</td>\n",
       "      <td>40</td>\n",
       "      <td>3</td>\n",
       "      <td>211</td>\n",
       "      <td>8</td>\n",
       "      <td>2010</td>\n",
       "      <td>1</td>\n",
       "      <td>Winter</td>\n",
       "      <td>2</td>\n",
       "    </tr>\n",
       "    <tr>\n",
       "      <th>3</th>\n",
       "      <td>1</td>\n",
       "      <td>2010-02-26</td>\n",
       "      <td>1,409,728</td>\n",
       "      <td>0</td>\n",
       "      <td>47</td>\n",
       "      <td>3</td>\n",
       "      <td>211</td>\n",
       "      <td>8</td>\n",
       "      <td>2010</td>\n",
       "      <td>1</td>\n",
       "      <td>Winter</td>\n",
       "      <td>2</td>\n",
       "    </tr>\n",
       "    <tr>\n",
       "      <th>4</th>\n",
       "      <td>1</td>\n",
       "      <td>2010-03-05</td>\n",
       "      <td>1,554,807</td>\n",
       "      <td>0</td>\n",
       "      <td>46</td>\n",
       "      <td>3</td>\n",
       "      <td>211</td>\n",
       "      <td>8</td>\n",
       "      <td>2010</td>\n",
       "      <td>1</td>\n",
       "      <td>Winter</td>\n",
       "      <td>3</td>\n",
       "    </tr>\n",
       "  </tbody>\n",
       "</table>\n",
       "</div>"
      ],
      "text/plain": [
       "   store       date  weekly_sales  holiday_flag  temperature  fuel_price  cpi  \\\n",
       "0      1 2010-02-05     1,643,691             0           42           3  211   \n",
       "1      1 2010-02-12     1,641,957             1           39           3  211   \n",
       "2      1 2010-02-19     1,611,968             0           40           3  211   \n",
       "3      1 2010-02-26     1,409,728             0           47           3  211   \n",
       "4      1 2010-03-05     1,554,807             0           46           3  211   \n",
       "\n",
       "   unemployment  year  quarter  season  month  \n",
       "0             8  2010        1  Winter      2  \n",
       "1             8  2010        1  Winter      2  \n",
       "2             8  2010        1  Winter      2  \n",
       "3             8  2010        1  Winter      2  \n",
       "4             8  2010        1  Winter      3  "
      ]
     },
     "execution_count": 21,
     "metadata": {},
     "output_type": "execute_result"
    }
   ],
   "source": [
    "data['month'] = data['date'].dt.month\n",
    "data.head()"
   ]
  },
  {
   "cell_type": "code",
   "execution_count": 22,
   "id": "8b948565",
   "metadata": {
    "execution": {
     "iopub.execute_input": "2024-02-16T17:10:32.993776Z",
     "iopub.status.busy": "2024-02-16T17:10:32.993441Z",
     "iopub.status.idle": "2024-02-16T17:10:33.000547Z",
     "shell.execute_reply": "2024-02-16T17:10:32.999102Z"
    },
    "papermill": {
     "duration": 0.019992,
     "end_time": "2024-02-16T17:10:33.002984",
     "exception": false,
     "start_time": "2024-02-16T17:10:32.982992",
     "status": "completed"
    },
    "tags": []
   },
   "outputs": [],
   "source": [
    "data['month_name'] = data['date'].dt.month_name()"
   ]
  },
  {
   "cell_type": "code",
   "execution_count": 23,
   "id": "4f4d1dde",
   "metadata": {
    "execution": {
     "iopub.execute_input": "2024-02-16T17:10:33.024617Z",
     "iopub.status.busy": "2024-02-16T17:10:33.024268Z",
     "iopub.status.idle": "2024-02-16T17:10:33.038319Z",
     "shell.execute_reply": "2024-02-16T17:10:33.037226Z"
    },
    "papermill": {
     "duration": 0.028183,
     "end_time": "2024-02-16T17:10:33.040959",
     "exception": false,
     "start_time": "2024-02-16T17:10:33.012776",
     "status": "completed"
    },
    "tags": []
   },
   "outputs": [
    {
     "data": {
      "text/html": [
       "<div>\n",
       "<style scoped>\n",
       "    .dataframe tbody tr th:only-of-type {\n",
       "        vertical-align: middle;\n",
       "    }\n",
       "\n",
       "    .dataframe tbody tr th {\n",
       "        vertical-align: top;\n",
       "    }\n",
       "\n",
       "    .dataframe thead th {\n",
       "        text-align: right;\n",
       "    }\n",
       "</style>\n",
       "<table border=\"1\" class=\"dataframe\">\n",
       "  <thead>\n",
       "    <tr style=\"text-align: right;\">\n",
       "      <th></th>\n",
       "      <th>store</th>\n",
       "      <th>date</th>\n",
       "      <th>weekly_sales</th>\n",
       "      <th>holiday_flag</th>\n",
       "      <th>temperature</th>\n",
       "      <th>fuel_price</th>\n",
       "      <th>cpi</th>\n",
       "      <th>unemployment</th>\n",
       "      <th>year</th>\n",
       "      <th>quarter</th>\n",
       "      <th>season</th>\n",
       "      <th>month</th>\n",
       "      <th>month_name</th>\n",
       "    </tr>\n",
       "  </thead>\n",
       "  <tbody>\n",
       "    <tr>\n",
       "      <th>0</th>\n",
       "      <td>1</td>\n",
       "      <td>2010-02-05</td>\n",
       "      <td>1,643,691</td>\n",
       "      <td>0</td>\n",
       "      <td>42</td>\n",
       "      <td>3</td>\n",
       "      <td>211</td>\n",
       "      <td>8</td>\n",
       "      <td>2010</td>\n",
       "      <td>1</td>\n",
       "      <td>Winter</td>\n",
       "      <td>2</td>\n",
       "      <td>February</td>\n",
       "    </tr>\n",
       "    <tr>\n",
       "      <th>1</th>\n",
       "      <td>1</td>\n",
       "      <td>2010-02-12</td>\n",
       "      <td>1,641,957</td>\n",
       "      <td>1</td>\n",
       "      <td>39</td>\n",
       "      <td>3</td>\n",
       "      <td>211</td>\n",
       "      <td>8</td>\n",
       "      <td>2010</td>\n",
       "      <td>1</td>\n",
       "      <td>Winter</td>\n",
       "      <td>2</td>\n",
       "      <td>February</td>\n",
       "    </tr>\n",
       "    <tr>\n",
       "      <th>2</th>\n",
       "      <td>1</td>\n",
       "      <td>2010-02-19</td>\n",
       "      <td>1,611,968</td>\n",
       "      <td>0</td>\n",
       "      <td>40</td>\n",
       "      <td>3</td>\n",
       "      <td>211</td>\n",
       "      <td>8</td>\n",
       "      <td>2010</td>\n",
       "      <td>1</td>\n",
       "      <td>Winter</td>\n",
       "      <td>2</td>\n",
       "      <td>February</td>\n",
       "    </tr>\n",
       "    <tr>\n",
       "      <th>3</th>\n",
       "      <td>1</td>\n",
       "      <td>2010-02-26</td>\n",
       "      <td>1,409,728</td>\n",
       "      <td>0</td>\n",
       "      <td>47</td>\n",
       "      <td>3</td>\n",
       "      <td>211</td>\n",
       "      <td>8</td>\n",
       "      <td>2010</td>\n",
       "      <td>1</td>\n",
       "      <td>Winter</td>\n",
       "      <td>2</td>\n",
       "      <td>February</td>\n",
       "    </tr>\n",
       "    <tr>\n",
       "      <th>4</th>\n",
       "      <td>1</td>\n",
       "      <td>2010-03-05</td>\n",
       "      <td>1,554,807</td>\n",
       "      <td>0</td>\n",
       "      <td>46</td>\n",
       "      <td>3</td>\n",
       "      <td>211</td>\n",
       "      <td>8</td>\n",
       "      <td>2010</td>\n",
       "      <td>1</td>\n",
       "      <td>Winter</td>\n",
       "      <td>3</td>\n",
       "      <td>March</td>\n",
       "    </tr>\n",
       "  </tbody>\n",
       "</table>\n",
       "</div>"
      ],
      "text/plain": [
       "   store       date  weekly_sales  holiday_flag  temperature  fuel_price  cpi  \\\n",
       "0      1 2010-02-05     1,643,691             0           42           3  211   \n",
       "1      1 2010-02-12     1,641,957             1           39           3  211   \n",
       "2      1 2010-02-19     1,611,968             0           40           3  211   \n",
       "3      1 2010-02-26     1,409,728             0           47           3  211   \n",
       "4      1 2010-03-05     1,554,807             0           46           3  211   \n",
       "\n",
       "   unemployment  year  quarter  season  month month_name  \n",
       "0             8  2010        1  Winter      2   February  \n",
       "1             8  2010        1  Winter      2   February  \n",
       "2             8  2010        1  Winter      2   February  \n",
       "3             8  2010        1  Winter      2   February  \n",
       "4             8  2010        1  Winter      3      March  "
      ]
     },
     "execution_count": 23,
     "metadata": {},
     "output_type": "execute_result"
    }
   ],
   "source": [
    "data.head()"
   ]
  },
  {
   "cell_type": "code",
   "execution_count": 24,
   "id": "61eca22c",
   "metadata": {},
   "outputs": [
    {
     "data": {
      "text/plain": [
       "array([[<Axes: title={'center': 'store'}>,\n",
       "        <Axes: title={'center': 'date'}>,\n",
       "        <Axes: title={'center': 'weekly_sales'}>],\n",
       "       [<Axes: title={'center': 'holiday_flag'}>,\n",
       "        <Axes: title={'center': 'temperature'}>,\n",
       "        <Axes: title={'center': 'fuel_price'}>],\n",
       "       [<Axes: title={'center': 'cpi'}>,\n",
       "        <Axes: title={'center': 'unemployment'}>,\n",
       "        <Axes: title={'center': 'year'}>],\n",
       "       [<Axes: title={'center': 'quarter'}>,\n",
       "        <Axes: title={'center': 'month'}>, <Axes: >]], dtype=object)"
      ]
     },
     "execution_count": 24,
     "metadata": {},
     "output_type": "execute_result"
    },
    {
     "data": {
      "image/png": "[encoded data removed]",
      "text/plain": [
       "<Figure size 2000x2000 with 12 Axes>"
      ]
     },
     "metadata": {},
     "output_type": "display_data"
    }
   ],
   "source": [
    "data.hist(bins=60,figsize=(20,20))"
   ]
  },
  {
   "cell_type": "code",
   "execution_count": 25,
   "id": "2f5b992f",
   "metadata": {},
   "outputs": [
    {
     "data": {
      "text/plain": [
       "Index(['store', 'date', 'weekly_sales', 'holiday_flag', 'temperature',\n",
       "       'fuel_price', 'cpi', 'unemployment', 'year', 'quarter', 'season',\n",
       "       'month', 'month_name'],\n",
       "      dtype='object')"
      ]
     },
     "execution_count": 25,
     "metadata": {},
     "output_type": "execute_result"
    }
   ],
   "source": [
    "data.columns"
   ]
  },
  {
   "cell_type": "code",
   "execution_count": 26,
   "id": "8a86f820",
   "metadata": {},
   "outputs": [
    {
     "data": {
      "text/plain": [
       "'The code snippet extracts specific columns from a DataFrame, computes the correlation between them,\\nand then visualizes the correlation matrix as a heatmap using Seaborn. This approach helps in understanding \\nthe relationships between variables by displaying the strength and direction of correlations through color gradients.\\n The heatmap with annotations provides a quick overview of how each variable relates to others,\\naiding in identifying patterns and potential insights within the data.'"
      ]
     },
     "execution_count": 26,
     "metadata": {},
     "output_type": "execute_result"
    },
    {
     "data": {
      "image/png": "[encoded data removed]",
      "text/plain": [
       "<Figure size 640x480 with 2 Axes>"
      ]
     },
     "metadata": {},
     "output_type": "display_data"
    }
   ],
   "source": [
    "df=data[['store','weekly_sales','temperature','fuel_price','cpi','unemployment','quarter','month']]\n",
    "corr=df.corr()\n",
    "corr\n",
    "sns.heatmap(corr,cmap='RdBu',vmin=-1,vmax=1,annot=True)\n",
    "\n",
    "\"\"\"The code snippet extracts specific columns from a DataFrame, computes the correlation between them,\n",
    "and then visualizes the correlation matrix as a heatmap using Seaborn. This approach helps in understanding \n",
    "the relationships between variables by displaying the strength and direction of correlations through color gradients.\n",
    " The heatmap with annotations provides a quick overview of how each variable relates to others,\n",
    "aiding in identifying patterns and potential insights within the data.\"\"\""
   ]
  },
  {
   "cell_type": "code",
   "execution_count": 27,
   "id": "ddf44a07",
   "metadata": {
    "execution": {
     "iopub.execute_input": "2024-02-16T17:10:33.061241Z",
     "iopub.status.busy": "2024-02-16T17:10:33.060901Z",
     "iopub.status.idle": "2024-02-16T17:10:33.069576Z",
     "shell.execute_reply": "2024-02-16T17:10:33.068363Z"
    },
    "papermill": {
     "duration": 0.021108,
     "end_time": "2024-02-16T17:10:33.071649",
     "exception": false,
     "start_time": "2024-02-16T17:10:33.050541",
     "status": "completed"
    },
    "tags": []
   },
   "outputs": [
    {
     "data": {
      "text/plain": [
       "month_name\n",
       "April        630\n",
       "July         630\n",
       "March        585\n",
       "June         585\n",
       "August       585\n",
       "September    585\n",
       "October      585\n",
       "February     540\n",
       "May          540\n",
       "December     450\n",
       "November     360\n",
       "January      360\n",
       "Name: count, dtype: int64"
      ]
     },
     "execution_count": 27,
     "metadata": {},
     "output_type": "execute_result"
    }
   ],
   "source": [
    "data['month_name'].value_counts()\n",
    "\n"
   ]
  },
  {
   "cell_type": "markdown",
   "id": "89a25a55",
   "metadata": {},
   "source": [
    "\"\"\"To count the occurrences of each unique value in the 'month_name' column, \n",
    "you can use the value_counts() function in Python. This function returns a Series containing counts of unique values.\"\"\""
   ]
  },
  {
   "cell_type": "code",
   "execution_count": 28,
   "id": "7d553e47",
   "metadata": {
    "execution": {
     "iopub.execute_input": "2024-02-16T17:10:33.092747Z",
     "iopub.status.busy": "2024-02-16T17:10:33.091708Z",
     "iopub.status.idle": "2024-02-16T17:10:33.108916Z",
     "shell.execute_reply": "2024-02-16T17:10:33.107892Z"
    },
    "papermill": {
     "duration": 0.030198,
     "end_time": "2024-02-16T17:10:33.111232",
     "exception": false,
     "start_time": "2024-02-16T17:10:33.081034",
     "status": "completed"
    },
    "tags": []
   },
   "outputs": [
    {
     "data": {
      "text/html": [
       "<div>\n",
       "<style scoped>\n",
       "    .dataframe tbody tr th:only-of-type {\n",
       "        vertical-align: middle;\n",
       "    }\n",
       "\n",
       "    .dataframe tbody tr th {\n",
       "        vertical-align: top;\n",
       "    }\n",
       "\n",
       "    .dataframe thead th {\n",
       "        text-align: right;\n",
       "    }\n",
       "</style>\n",
       "<table border=\"1\" class=\"dataframe\">\n",
       "  <thead>\n",
       "    <tr style=\"text-align: right;\">\n",
       "      <th></th>\n",
       "      <th>store</th>\n",
       "      <th>date</th>\n",
       "      <th>weekly_sales</th>\n",
       "      <th>holiday_flag</th>\n",
       "      <th>temperature</th>\n",
       "      <th>fuel_price</th>\n",
       "      <th>cpi</th>\n",
       "      <th>unemployment</th>\n",
       "      <th>year</th>\n",
       "      <th>quarter</th>\n",
       "      <th>season</th>\n",
       "      <th>month</th>\n",
       "      <th>month_name</th>\n",
       "      <th>week</th>\n",
       "    </tr>\n",
       "  </thead>\n",
       "  <tbody>\n",
       "    <tr>\n",
       "      <th>0</th>\n",
       "      <td>1</td>\n",
       "      <td>2010-02-05</td>\n",
       "      <td>1,643,691</td>\n",
       "      <td>0</td>\n",
       "      <td>42</td>\n",
       "      <td>3</td>\n",
       "      <td>211</td>\n",
       "      <td>8</td>\n",
       "      <td>2010</td>\n",
       "      <td>1</td>\n",
       "      <td>Winter</td>\n",
       "      <td>2</td>\n",
       "      <td>February</td>\n",
       "      <td>5</td>\n",
       "    </tr>\n",
       "    <tr>\n",
       "      <th>1</th>\n",
       "      <td>1</td>\n",
       "      <td>2010-02-12</td>\n",
       "      <td>1,641,957</td>\n",
       "      <td>1</td>\n",
       "      <td>39</td>\n",
       "      <td>3</td>\n",
       "      <td>211</td>\n",
       "      <td>8</td>\n",
       "      <td>2010</td>\n",
       "      <td>1</td>\n",
       "      <td>Winter</td>\n",
       "      <td>2</td>\n",
       "      <td>February</td>\n",
       "      <td>6</td>\n",
       "    </tr>\n",
       "    <tr>\n",
       "      <th>2</th>\n",
       "      <td>1</td>\n",
       "      <td>2010-02-19</td>\n",
       "      <td>1,611,968</td>\n",
       "      <td>0</td>\n",
       "      <td>40</td>\n",
       "      <td>3</td>\n",
       "      <td>211</td>\n",
       "      <td>8</td>\n",
       "      <td>2010</td>\n",
       "      <td>1</td>\n",
       "      <td>Winter</td>\n",
       "      <td>2</td>\n",
       "      <td>February</td>\n",
       "      <td>7</td>\n",
       "    </tr>\n",
       "    <tr>\n",
       "      <th>3</th>\n",
       "      <td>1</td>\n",
       "      <td>2010-02-26</td>\n",
       "      <td>1,409,728</td>\n",
       "      <td>0</td>\n",
       "      <td>47</td>\n",
       "      <td>3</td>\n",
       "      <td>211</td>\n",
       "      <td>8</td>\n",
       "      <td>2010</td>\n",
       "      <td>1</td>\n",
       "      <td>Winter</td>\n",
       "      <td>2</td>\n",
       "      <td>February</td>\n",
       "      <td>8</td>\n",
       "    </tr>\n",
       "    <tr>\n",
       "      <th>4</th>\n",
       "      <td>1</td>\n",
       "      <td>2010-03-05</td>\n",
       "      <td>1,554,807</td>\n",
       "      <td>0</td>\n",
       "      <td>46</td>\n",
       "      <td>3</td>\n",
       "      <td>211</td>\n",
       "      <td>8</td>\n",
       "      <td>2010</td>\n",
       "      <td>1</td>\n",
       "      <td>Winter</td>\n",
       "      <td>3</td>\n",
       "      <td>March</td>\n",
       "      <td>9</td>\n",
       "    </tr>\n",
       "  </tbody>\n",
       "</table>\n",
       "</div>"
      ],
      "text/plain": [
       "   store       date  weekly_sales  holiday_flag  temperature  fuel_price  cpi  \\\n",
       "0      1 2010-02-05     1,643,691             0           42           3  211   \n",
       "1      1 2010-02-12     1,641,957             1           39           3  211   \n",
       "2      1 2010-02-19     1,611,968             0           40           3  211   \n",
       "3      1 2010-02-26     1,409,728             0           47           3  211   \n",
       "4      1 2010-03-05     1,554,807             0           46           3  211   \n",
       "\n",
       "   unemployment  year  quarter  season  month month_name  week  \n",
       "0             8  2010        1  Winter      2   February     5  \n",
       "1             8  2010        1  Winter      2   February     6  \n",
       "2             8  2010        1  Winter      2   February     7  \n",
       "3             8  2010        1  Winter      2   February     8  \n",
       "4             8  2010        1  Winter      3      March     9  "
      ]
     },
     "execution_count": 28,
     "metadata": {},
     "output_type": "execute_result"
    }
   ],
   "source": [
    "data['week'] = data['date'].dt.isocalendar().week\n",
    "data.head()"
   ]
  },
  {
   "cell_type": "markdown",
   "id": "86e21996",
   "metadata": {},
   "source": [
    "\"\"\"To add a 'week' column to a DataFrame based on the 'date' column, you can use the isocalendar().week method in pandas. This method extracts the week number from a datetime column.\"\"\""
   ]
  },
  {
   "cell_type": "code",
   "execution_count": 29,
   "id": "85f178c7",
   "metadata": {
    "execution": {
     "iopub.execute_input": "2024-02-16T17:10:33.132960Z",
     "iopub.status.busy": "2024-02-16T17:10:33.131860Z",
     "iopub.status.idle": "2024-02-16T17:10:33.150367Z",
     "shell.execute_reply": "2024-02-16T17:10:33.149624Z"
    },
    "papermill": {
     "duration": 0.030577,
     "end_time": "2024-02-16T17:10:33.151892",
     "exception": false,
     "start_time": "2024-02-16T17:10:33.121315",
     "status": "completed"
    },
    "tags": []
   },
   "outputs": [
    {
     "data": {
      "text/html": [
       "<div>\n",
       "<style scoped>\n",
       "    .dataframe tbody tr th:only-of-type {\n",
       "        vertical-align: middle;\n",
       "    }\n",
       "\n",
       "    .dataframe tbody tr th {\n",
       "        vertical-align: top;\n",
       "    }\n",
       "\n",
       "    .dataframe thead th {\n",
       "        text-align: right;\n",
       "    }\n",
       "</style>\n",
       "<table border=\"1\" class=\"dataframe\">\n",
       "  <thead>\n",
       "    <tr style=\"text-align: right;\">\n",
       "      <th></th>\n",
       "      <th>store</th>\n",
       "      <th>date</th>\n",
       "      <th>weekly_sales</th>\n",
       "      <th>holiday_flag</th>\n",
       "      <th>temperature</th>\n",
       "      <th>fuel_price</th>\n",
       "      <th>cpi</th>\n",
       "      <th>unemployment</th>\n",
       "      <th>year</th>\n",
       "      <th>quarter</th>\n",
       "      <th>season</th>\n",
       "      <th>month</th>\n",
       "      <th>month_name</th>\n",
       "      <th>week</th>\n",
       "      <th>day_of_week</th>\n",
       "    </tr>\n",
       "  </thead>\n",
       "  <tbody>\n",
       "    <tr>\n",
       "      <th>0</th>\n",
       "      <td>1</td>\n",
       "      <td>2010-02-05</td>\n",
       "      <td>1,643,691</td>\n",
       "      <td>0</td>\n",
       "      <td>42</td>\n",
       "      <td>3</td>\n",
       "      <td>211</td>\n",
       "      <td>8</td>\n",
       "      <td>2010</td>\n",
       "      <td>1</td>\n",
       "      <td>Winter</td>\n",
       "      <td>2</td>\n",
       "      <td>February</td>\n",
       "      <td>5</td>\n",
       "      <td>Friday</td>\n",
       "    </tr>\n",
       "    <tr>\n",
       "      <th>1</th>\n",
       "      <td>1</td>\n",
       "      <td>2010-02-12</td>\n",
       "      <td>1,641,957</td>\n",
       "      <td>1</td>\n",
       "      <td>39</td>\n",
       "      <td>3</td>\n",
       "      <td>211</td>\n",
       "      <td>8</td>\n",
       "      <td>2010</td>\n",
       "      <td>1</td>\n",
       "      <td>Winter</td>\n",
       "      <td>2</td>\n",
       "      <td>February</td>\n",
       "      <td>6</td>\n",
       "      <td>Friday</td>\n",
       "    </tr>\n",
       "    <tr>\n",
       "      <th>2</th>\n",
       "      <td>1</td>\n",
       "      <td>2010-02-19</td>\n",
       "      <td>1,611,968</td>\n",
       "      <td>0</td>\n",
       "      <td>40</td>\n",
       "      <td>3</td>\n",
       "      <td>211</td>\n",
       "      <td>8</td>\n",
       "      <td>2010</td>\n",
       "      <td>1</td>\n",
       "      <td>Winter</td>\n",
       "      <td>2</td>\n",
       "      <td>February</td>\n",
       "      <td>7</td>\n",
       "      <td>Friday</td>\n",
       "    </tr>\n",
       "    <tr>\n",
       "      <th>3</th>\n",
       "      <td>1</td>\n",
       "      <td>2010-02-26</td>\n",
       "      <td>1,409,728</td>\n",
       "      <td>0</td>\n",
       "      <td>47</td>\n",
       "      <td>3</td>\n",
       "      <td>211</td>\n",
       "      <td>8</td>\n",
       "      <td>2010</td>\n",
       "      <td>1</td>\n",
       "      <td>Winter</td>\n",
       "      <td>2</td>\n",
       "      <td>February</td>\n",
       "      <td>8</td>\n",
       "      <td>Friday</td>\n",
       "    </tr>\n",
       "    <tr>\n",
       "      <th>4</th>\n",
       "      <td>1</td>\n",
       "      <td>2010-03-05</td>\n",
       "      <td>1,554,807</td>\n",
       "      <td>0</td>\n",
       "      <td>46</td>\n",
       "      <td>3</td>\n",
       "      <td>211</td>\n",
       "      <td>8</td>\n",
       "      <td>2010</td>\n",
       "      <td>1</td>\n",
       "      <td>Winter</td>\n",
       "      <td>3</td>\n",
       "      <td>March</td>\n",
       "      <td>9</td>\n",
       "      <td>Friday</td>\n",
       "    </tr>\n",
       "  </tbody>\n",
       "</table>\n",
       "</div>"
      ],
      "text/plain": [
       "   store       date  weekly_sales  holiday_flag  temperature  fuel_price  cpi  \\\n",
       "0      1 2010-02-05     1,643,691             0           42           3  211   \n",
       "1      1 2010-02-12     1,641,957             1           39           3  211   \n",
       "2      1 2010-02-19     1,611,968             0           40           3  211   \n",
       "3      1 2010-02-26     1,409,728             0           47           3  211   \n",
       "4      1 2010-03-05     1,554,807             0           46           3  211   \n",
       "\n",
       "   unemployment  year  quarter  season  month month_name  week day_of_week  \n",
       "0             8  2010        1  Winter      2   February     5      Friday  \n",
       "1             8  2010        1  Winter      2   February     6      Friday  \n",
       "2             8  2010        1  Winter      2   February     7      Friday  \n",
       "3             8  2010        1  Winter      2   February     8      Friday  \n",
       "4             8  2010        1  Winter      3      March     9      Friday  "
      ]
     },
     "execution_count": 29,
     "metadata": {},
     "output_type": "execute_result"
    }
   ],
   "source": [
    "data['day_of_week'] = data['date'].dt.day_name()\n",
    "data.head()"
   ]
  },
  {
   "cell_type": "markdown",
   "id": "e6cc0049",
   "metadata": {},
   "source": [
    "\"\"\"To add a 'day_of_week' column to a DataFrame in Python using pandas, you can extract the day name from a 'date' column and assign it to the new column.\"\"\""
   ]
  },
  {
   "cell_type": "code",
   "execution_count": 30,
   "id": "55ef9e26",
   "metadata": {
    "execution": {
     "iopub.execute_input": "2024-02-16T17:10:33.173759Z",
     "iopub.status.busy": "2024-02-16T17:10:33.172579Z",
     "iopub.status.idle": "2024-02-16T17:10:33.178818Z",
     "shell.execute_reply": "2024-02-16T17:10:33.178126Z"
    },
    "papermill": {
     "duration": 0.018911,
     "end_time": "2024-02-16T17:10:33.180556",
     "exception": false,
     "start_time": "2024-02-16T17:10:33.161645",
     "status": "completed"
    },
    "tags": []
   },
   "outputs": [
    {
     "data": {
      "text/plain": [
       "(6435, 15)"
      ]
     },
     "execution_count": 30,
     "metadata": {},
     "output_type": "execute_result"
    }
   ],
   "source": [
    "data.shape"
   ]
  },
  {
   "cell_type": "markdown",
   "id": "48e6b669",
   "metadata": {},
   "source": [
    "\"\"\"In Python, the shape attribute is commonly used with libraries like NumPy or Pandas to determine the dimensions of a dataset. When you call data.shape, it returns a tuple representing the number of rows and columns in the dataset. For example, if you have a dataset named data, data.shape would output (rows, columns). This information is crucial for data manipulation, analysis, and visualization tasks as it provides insights into the structure of the dataset at hand.\n",
    "\n",
    "\"\"\""
   ]
  },
  {
   "cell_type": "markdown",
   "id": "15518f54",
   "metadata": {
    "papermill": {
     "duration": 0.009287,
     "end_time": "2024-02-16T17:10:33.199557",
     "exception": false,
     "start_time": "2024-02-16T17:10:33.190270",
     "status": "completed"
    },
    "tags": []
   },
   "source": [
    "# Exploratory Data Analysis (EDA)\n",
    "- Univariate Analysis\n",
    "- Bi-variate Analysis\n",
    "- Time Series Analysis"
   ]
  },
  {
   "cell_type": "markdown",
   "id": "cac343b9",
   "metadata": {
    "papermill": {
     "duration": 0.00934,
     "end_time": "2024-02-16T17:10:33.218731",
     "exception": false,
     "start_time": "2024-02-16T17:10:33.209391",
     "status": "completed"
    },
    "tags": []
   },
   "source": [
    "### Univariate Analysis\n",
    "#### Numerical Features\n",
    "- weekly sales\n",
    "- temperature\n",
    "- fuel price\n",
    "- cpi\n",
    "- unemployment"
   ]
  },
  {
   "cell_type": "code",
   "execution_count": 31,
   "id": "54d52e56",
   "metadata": {
    "execution": {
     "iopub.execute_input": "2024-02-16T17:10:33.240444Z",
     "iopub.status.busy": "2024-02-16T17:10:33.239799Z",
     "iopub.status.idle": "2024-02-16T17:10:33.245779Z",
     "shell.execute_reply": "2024-02-16T17:10:33.245047Z"
    },
    "papermill": {
     "duration": 0.018914,
     "end_time": "2024-02-16T17:10:33.247507",
     "exception": false,
     "start_time": "2024-02-16T17:10:33.228593",
     "status": "completed"
    },
    "tags": []
   },
   "outputs": [
    {
     "data": {
      "text/plain": [
       "Index(['store', 'date', 'weekly_sales', 'holiday_flag', 'temperature',\n",
       "       'fuel_price', 'cpi', 'unemployment', 'year', 'quarter', 'season',\n",
       "       'month', 'month_name', 'week', 'day_of_week'],\n",
       "      dtype='object')"
      ]
     },
     "execution_count": 31,
     "metadata": {},
     "output_type": "execute_result"
    }
   ],
   "source": [
    "data.columns"
   ]
  },
  {
   "cell_type": "code",
   "execution_count": 32,
   "id": "fab671ec",
   "metadata": {
    "execution": {
     "iopub.execute_input": "2024-02-16T17:10:33.269516Z",
     "iopub.status.busy": "2024-02-16T17:10:33.268719Z",
     "iopub.status.idle": "2024-02-16T17:10:33.292938Z",
     "shell.execute_reply": "2024-02-16T17:10:33.291222Z"
    },
    "papermill": {
     "duration": 0.037546,
     "end_time": "2024-02-16T17:10:33.294993",
     "exception": false,
     "start_time": "2024-02-16T17:10:33.257447",
     "status": "completed"
    },
    "tags": []
   },
   "outputs": [
    {
     "data": {
      "text/html": [
       "<div>\n",
       "<style scoped>\n",
       "    .dataframe tbody tr th:only-of-type {\n",
       "        vertical-align: middle;\n",
       "    }\n",
       "\n",
       "    .dataframe tbody tr th {\n",
       "        vertical-align: top;\n",
       "    }\n",
       "\n",
       "    .dataframe thead th {\n",
       "        text-align: right;\n",
       "    }\n",
       "</style>\n",
       "<table border=\"1\" class=\"dataframe\">\n",
       "  <thead>\n",
       "    <tr style=\"text-align: right;\">\n",
       "      <th></th>\n",
       "      <th>weekly_sales</th>\n",
       "      <th>temperature</th>\n",
       "      <th>fuel_price</th>\n",
       "      <th>cpi</th>\n",
       "      <th>unemployment</th>\n",
       "    </tr>\n",
       "  </thead>\n",
       "  <tbody>\n",
       "    <tr>\n",
       "      <th>count</th>\n",
       "      <td>6,435</td>\n",
       "      <td>6,435</td>\n",
       "      <td>6,435</td>\n",
       "      <td>6,435</td>\n",
       "      <td>6,435</td>\n",
       "    </tr>\n",
       "    <tr>\n",
       "      <th>mean</th>\n",
       "      <td>1,046,965</td>\n",
       "      <td>61</td>\n",
       "      <td>3</td>\n",
       "      <td>172</td>\n",
       "      <td>8</td>\n",
       "    </tr>\n",
       "    <tr>\n",
       "      <th>std</th>\n",
       "      <td>564,367</td>\n",
       "      <td>18</td>\n",
       "      <td>0</td>\n",
       "      <td>39</td>\n",
       "      <td>2</td>\n",
       "    </tr>\n",
       "    <tr>\n",
       "      <th>min</th>\n",
       "      <td>209,986</td>\n",
       "      <td>-2</td>\n",
       "      <td>2</td>\n",
       "      <td>126</td>\n",
       "      <td>4</td>\n",
       "    </tr>\n",
       "    <tr>\n",
       "      <th>25%</th>\n",
       "      <td>553,350</td>\n",
       "      <td>47</td>\n",
       "      <td>3</td>\n",
       "      <td>132</td>\n",
       "      <td>7</td>\n",
       "    </tr>\n",
       "    <tr>\n",
       "      <th>50%</th>\n",
       "      <td>960,746</td>\n",
       "      <td>63</td>\n",
       "      <td>3</td>\n",
       "      <td>183</td>\n",
       "      <td>8</td>\n",
       "    </tr>\n",
       "    <tr>\n",
       "      <th>75%</th>\n",
       "      <td>1,420,159</td>\n",
       "      <td>75</td>\n",
       "      <td>4</td>\n",
       "      <td>213</td>\n",
       "      <td>9</td>\n",
       "    </tr>\n",
       "    <tr>\n",
       "      <th>max</th>\n",
       "      <td>3,818,686</td>\n",
       "      <td>100</td>\n",
       "      <td>4</td>\n",
       "      <td>227</td>\n",
       "      <td>14</td>\n",
       "    </tr>\n",
       "  </tbody>\n",
       "</table>\n",
       "</div>"
      ],
      "text/plain": [
       "       weekly_sales  temperature  fuel_price   cpi  unemployment\n",
       "count         6,435        6,435       6,435 6,435         6,435\n",
       "mean      1,046,965           61           3   172             8\n",
       "std         564,367           18           0    39             2\n",
       "min         209,986           -2           2   126             4\n",
       "25%         553,350           47           3   132             7\n",
       "50%         960,746           63           3   183             8\n",
       "75%       1,420,159           75           4   213             9\n",
       "max       3,818,686          100           4   227            14"
      ]
     },
     "execution_count": 32,
     "metadata": {},
     "output_type": "execute_result"
    }
   ],
   "source": [
    "data[['weekly_sales','temperature','fuel_price', 'cpi', 'unemployment']].describe()"
   ]
  },
  {
   "cell_type": "code",
   "execution_count": null,
   "id": "4d4f9bd3",
   "metadata": {
    "execution": {
     "iopub.execute_input": "2024-02-16T17:10:33.317826Z",
     "iopub.status.busy": "2024-02-16T17:10:33.317474Z",
     "iopub.status.idle": "2024-02-16T17:10:36.099770Z",
     "shell.execute_reply": "2024-02-16T17:10:36.099056Z"
    },
    "papermill": {
     "duration": 2.796942,
     "end_time": "2024-02-16T17:10:36.101907",
     "exception": false,
     "start_time": "2024-02-16T17:10:33.304965",
     "status": "completed"
    },
    "tags": []
   },
   "outputs": [],
   "source": []
  },
  {
   "cell_type": "markdown",
   "id": "5de96613",
   "metadata": {
    "papermill": {
     "duration": 0.012866,
     "end_time": "2024-02-16T17:10:36.126974",
     "exception": false,
     "start_time": "2024-02-16T17:10:36.114108",
     "status": "completed"
    },
    "tags": []
   },
   "source": [
    "#### Conclusion:\n",
    "- weekly_sales is right skewed\n",
    "- Temp and unemployment are normal dist.\n",
    "- rests are bimodal"
   ]
  },
  {
   "cell_type": "code",
   "execution_count": 33,
   "id": "393534da",
   "metadata": {},
   "outputs": [
    {
     "data": {
      "text/html": [
       "<div>\n",
       "<style scoped>\n",
       "    .dataframe tbody tr th:only-of-type {\n",
       "        vertical-align: middle;\n",
       "    }\n",
       "\n",
       "    .dataframe tbody tr th {\n",
       "        vertical-align: top;\n",
       "    }\n",
       "\n",
       "    .dataframe thead th {\n",
       "        text-align: right;\n",
       "    }\n",
       "</style>\n",
       "<table border=\"1\" class=\"dataframe\">\n",
       "  <thead>\n",
       "    <tr style=\"text-align: right;\">\n",
       "      <th></th>\n",
       "      <th>store</th>\n",
       "      <th>date</th>\n",
       "      <th>weekly_sales</th>\n",
       "      <th>holiday_flag</th>\n",
       "      <th>temperature</th>\n",
       "      <th>fuel_price</th>\n",
       "      <th>cpi</th>\n",
       "      <th>unemployment</th>\n",
       "      <th>year</th>\n",
       "      <th>quarter</th>\n",
       "      <th>season</th>\n",
       "      <th>month</th>\n",
       "      <th>month_name</th>\n",
       "      <th>week</th>\n",
       "      <th>day_of_week</th>\n",
       "    </tr>\n",
       "  </thead>\n",
       "  <tbody>\n",
       "    <tr>\n",
       "      <th>0</th>\n",
       "      <td>1</td>\n",
       "      <td>2010-02-05</td>\n",
       "      <td>1,643,691</td>\n",
       "      <td>0</td>\n",
       "      <td>42</td>\n",
       "      <td>3</td>\n",
       "      <td>211</td>\n",
       "      <td>8</td>\n",
       "      <td>2010</td>\n",
       "      <td>1</td>\n",
       "      <td>Winter</td>\n",
       "      <td>2</td>\n",
       "      <td>February</td>\n",
       "      <td>5</td>\n",
       "      <td>Friday</td>\n",
       "    </tr>\n",
       "    <tr>\n",
       "      <th>1</th>\n",
       "      <td>1</td>\n",
       "      <td>2010-02-12</td>\n",
       "      <td>1,641,957</td>\n",
       "      <td>1</td>\n",
       "      <td>39</td>\n",
       "      <td>3</td>\n",
       "      <td>211</td>\n",
       "      <td>8</td>\n",
       "      <td>2010</td>\n",
       "      <td>1</td>\n",
       "      <td>Winter</td>\n",
       "      <td>2</td>\n",
       "      <td>February</td>\n",
       "      <td>6</td>\n",
       "      <td>Friday</td>\n",
       "    </tr>\n",
       "    <tr>\n",
       "      <th>2</th>\n",
       "      <td>1</td>\n",
       "      <td>2010-02-19</td>\n",
       "      <td>1,611,968</td>\n",
       "      <td>0</td>\n",
       "      <td>40</td>\n",
       "      <td>3</td>\n",
       "      <td>211</td>\n",
       "      <td>8</td>\n",
       "      <td>2010</td>\n",
       "      <td>1</td>\n",
       "      <td>Winter</td>\n",
       "      <td>2</td>\n",
       "      <td>February</td>\n",
       "      <td>7</td>\n",
       "      <td>Friday</td>\n",
       "    </tr>\n",
       "    <tr>\n",
       "      <th>3</th>\n",
       "      <td>1</td>\n",
       "      <td>2010-02-26</td>\n",
       "      <td>1,409,728</td>\n",
       "      <td>0</td>\n",
       "      <td>47</td>\n",
       "      <td>3</td>\n",
       "      <td>211</td>\n",
       "      <td>8</td>\n",
       "      <td>2010</td>\n",
       "      <td>1</td>\n",
       "      <td>Winter</td>\n",
       "      <td>2</td>\n",
       "      <td>February</td>\n",
       "      <td>8</td>\n",
       "      <td>Friday</td>\n",
       "    </tr>\n",
       "    <tr>\n",
       "      <th>4</th>\n",
       "      <td>1</td>\n",
       "      <td>2010-03-05</td>\n",
       "      <td>1,554,807</td>\n",
       "      <td>0</td>\n",
       "      <td>46</td>\n",
       "      <td>3</td>\n",
       "      <td>211</td>\n",
       "      <td>8</td>\n",
       "      <td>2010</td>\n",
       "      <td>1</td>\n",
       "      <td>Winter</td>\n",
       "      <td>3</td>\n",
       "      <td>March</td>\n",
       "      <td>9</td>\n",
       "      <td>Friday</td>\n",
       "    </tr>\n",
       "    <tr>\n",
       "      <th>...</th>\n",
       "      <td>...</td>\n",
       "      <td>...</td>\n",
       "      <td>...</td>\n",
       "      <td>...</td>\n",
       "      <td>...</td>\n",
       "      <td>...</td>\n",
       "      <td>...</td>\n",
       "      <td>...</td>\n",
       "      <td>...</td>\n",
       "      <td>...</td>\n",
       "      <td>...</td>\n",
       "      <td>...</td>\n",
       "      <td>...</td>\n",
       "      <td>...</td>\n",
       "      <td>...</td>\n",
       "    </tr>\n",
       "    <tr>\n",
       "      <th>6430</th>\n",
       "      <td>45</td>\n",
       "      <td>2012-09-28</td>\n",
       "      <td>713,174</td>\n",
       "      <td>0</td>\n",
       "      <td>65</td>\n",
       "      <td>4</td>\n",
       "      <td>192</td>\n",
       "      <td>9</td>\n",
       "      <td>2012</td>\n",
       "      <td>3</td>\n",
       "      <td>Summer</td>\n",
       "      <td>9</td>\n",
       "      <td>September</td>\n",
       "      <td>39</td>\n",
       "      <td>Friday</td>\n",
       "    </tr>\n",
       "    <tr>\n",
       "      <th>6431</th>\n",
       "      <td>45</td>\n",
       "      <td>2012-10-05</td>\n",
       "      <td>733,455</td>\n",
       "      <td>0</td>\n",
       "      <td>65</td>\n",
       "      <td>4</td>\n",
       "      <td>192</td>\n",
       "      <td>9</td>\n",
       "      <td>2012</td>\n",
       "      <td>4</td>\n",
       "      <td>Fall</td>\n",
       "      <td>10</td>\n",
       "      <td>October</td>\n",
       "      <td>40</td>\n",
       "      <td>Friday</td>\n",
       "    </tr>\n",
       "    <tr>\n",
       "      <th>6432</th>\n",
       "      <td>45</td>\n",
       "      <td>2012-10-12</td>\n",
       "      <td>734,464</td>\n",
       "      <td>0</td>\n",
       "      <td>54</td>\n",
       "      <td>4</td>\n",
       "      <td>192</td>\n",
       "      <td>9</td>\n",
       "      <td>2012</td>\n",
       "      <td>4</td>\n",
       "      <td>Fall</td>\n",
       "      <td>10</td>\n",
       "      <td>October</td>\n",
       "      <td>41</td>\n",
       "      <td>Friday</td>\n",
       "    </tr>\n",
       "    <tr>\n",
       "      <th>6433</th>\n",
       "      <td>45</td>\n",
       "      <td>2012-10-19</td>\n",
       "      <td>718,126</td>\n",
       "      <td>0</td>\n",
       "      <td>56</td>\n",
       "      <td>4</td>\n",
       "      <td>192</td>\n",
       "      <td>9</td>\n",
       "      <td>2012</td>\n",
       "      <td>4</td>\n",
       "      <td>Fall</td>\n",
       "      <td>10</td>\n",
       "      <td>October</td>\n",
       "      <td>42</td>\n",
       "      <td>Friday</td>\n",
       "    </tr>\n",
       "    <tr>\n",
       "      <th>6434</th>\n",
       "      <td>45</td>\n",
       "      <td>2012-10-26</td>\n",
       "      <td>760,281</td>\n",
       "      <td>0</td>\n",
       "      <td>59</td>\n",
       "      <td>4</td>\n",
       "      <td>192</td>\n",
       "      <td>9</td>\n",
       "      <td>2012</td>\n",
       "      <td>4</td>\n",
       "      <td>Fall</td>\n",
       "      <td>10</td>\n",
       "      <td>October</td>\n",
       "      <td>43</td>\n",
       "      <td>Friday</td>\n",
       "    </tr>\n",
       "  </tbody>\n",
       "</table>\n",
       "<p>6435 rows × 15 columns</p>\n",
       "</div>"
      ],
      "text/plain": [
       "      store       date  weekly_sales  holiday_flag  temperature  fuel_price  \\\n",
       "0         1 2010-02-05     1,643,691             0           42           3   \n",
       "1         1 2010-02-12     1,641,957             1           39           3   \n",
       "2         1 2010-02-19     1,611,968             0           40           3   \n",
       "3         1 2010-02-26     1,409,728             0           47           3   \n",
       "4         1 2010-03-05     1,554,807             0           46           3   \n",
       "...     ...        ...           ...           ...          ...         ...   \n",
       "6430     45 2012-09-28       713,174             0           65           4   \n",
       "6431     45 2012-10-05       733,455             0           65           4   \n",
       "6432     45 2012-10-12       734,464             0           54           4   \n",
       "6433     45 2012-10-19       718,126             0           56           4   \n",
       "6434     45 2012-10-26       760,281             0           59           4   \n",
       "\n",
       "      cpi  unemployment  year  quarter  season  month month_name  week  \\\n",
       "0     211             8  2010        1  Winter      2   February     5   \n",
       "1     211             8  2010        1  Winter      2   February     6   \n",
       "2     211             8  2010        1  Winter      2   February     7   \n",
       "3     211             8  2010        1  Winter      2   February     8   \n",
       "4     211             8  2010        1  Winter      3      March     9   \n",
       "...   ...           ...   ...      ...     ...    ...        ...   ...   \n",
       "6430  192             9  2012        3  Summer      9  September    39   \n",
       "6431  192             9  2012        4    Fall     10    October    40   \n",
       "6432  192             9  2012        4    Fall     10    October    41   \n",
       "6433  192             9  2012        4    Fall     10    October    42   \n",
       "6434  192             9  2012        4    Fall     10    October    43   \n",
       "\n",
       "     day_of_week  \n",
       "0         Friday  \n",
       "1         Friday  \n",
       "2         Friday  \n",
       "3         Friday  \n",
       "4         Friday  \n",
       "...          ...  \n",
       "6430      Friday  \n",
       "6431      Friday  \n",
       "6432      Friday  \n",
       "6433      Friday  \n",
       "6434      Friday  \n",
       "\n",
       "[6435 rows x 15 columns]"
      ]
     },
     "execution_count": 33,
     "metadata": {},
     "output_type": "execute_result"
    }
   ],
   "source": [
    "data"
   ]
  },
  {
   "cell_type": "code",
   "execution_count": 34,
   "id": "65f9407d",
   "metadata": {
    "papermill": {
     "duration": 0.011544,
     "end_time": "2024-02-16T17:10:36.151278",
     "exception": false,
     "start_time": "2024-02-16T17:10:36.139734",
     "status": "completed"
    },
    "tags": []
   },
   "outputs": [
    {
     "data": {
      "text/html": [
       "<style>#sk-container-id-1 {color: black;}#sk-container-id-1 pre{padding: 0;}#sk-container-id-1 div.sk-toggleable {background-color: white;}#sk-container-id-1 label.sk-toggleable__label {cursor: pointer;display: block;width: 100%;margin-bottom: 0;padding: 0.3em;box-sizing: border-box;text-align: center;}#sk-container-id-1 label.sk-toggleable__label-arrow:before {content: \"▸\";float: left;margin-right: 0.25em;color: #696969;}#sk-container-id-1 label.sk-toggleable__label-arrow:hover:before {color: black;}#sk-container-id-1 div.sk-estimator:hover label.sk-toggleable__label-arrow:before {color: black;}#sk-container-id-1 div.sk-toggleable__content {max-height: 0;max-width: 0;overflow: hidden;text-align: left;background-color: #f0f8ff;}#sk-container-id-1 div.sk-toggleable__content pre {margin: 0.2em;color: black;border-radius: 0.25em;background-color: #f0f8ff;}#sk-container-id-1 input.sk-toggleable__control:checked~div.sk-toggleable__content {max-height: 200px;max-width: 100%;overflow: auto;}#sk-container-id-1 input.sk-toggleable__control:checked~label.sk-toggleable__label-arrow:before {content: \"▾\";}#sk-container-id-1 div.sk-estimator input.sk-toggleable__control:checked~label.sk-toggleable__label {background-color: #d4ebff;}#sk-container-id-1 div.sk-label input.sk-toggleable__control:checked~label.sk-toggleable__label {background-color: #d4ebff;}#sk-container-id-1 input.sk-hidden--visually {border: 0;clip: rect(1px 1px 1px 1px);clip: rect(1px, 1px, 1px, 1px);height: 1px;margin: -1px;overflow: hidden;padding: 0;position: absolute;width: 1px;}#sk-container-id-1 div.sk-estimator {font-family: monospace;background-color: #f0f8ff;border: 1px dotted black;border-radius: 0.25em;box-sizing: border-box;margin-bottom: 0.5em;}#sk-container-id-1 div.sk-estimator:hover {background-color: #d4ebff;}#sk-container-id-1 div.sk-parallel-item::after {content: \"\";width: 100%;border-bottom: 1px solid gray;flex-grow: 1;}#sk-container-id-1 div.sk-label:hover label.sk-toggleable__label {background-color: #d4ebff;}#sk-container-id-1 div.sk-serial::before {content: \"\";position: absolute;border-left: 1px solid gray;box-sizing: border-box;top: 0;bottom: 0;left: 50%;z-index: 0;}#sk-container-id-1 div.sk-serial {display: flex;flex-direction: column;align-items: center;background-color: white;padding-right: 0.2em;padding-left: 0.2em;position: relative;}#sk-container-id-1 div.sk-item {position: relative;z-index: 1;}#sk-container-id-1 div.sk-parallel {display: flex;align-items: stretch;justify-content: center;background-color: white;position: relative;}#sk-container-id-1 div.sk-item::before, #sk-container-id-1 div.sk-parallel-item::before {content: \"\";position: absolute;border-left: 1px solid gray;box-sizing: border-box;top: 0;bottom: 0;left: 50%;z-index: -1;}#sk-container-id-1 div.sk-parallel-item {display: flex;flex-direction: column;z-index: 1;position: relative;background-color: white;}#sk-container-id-1 div.sk-parallel-item:first-child::after {align-self: flex-end;width: 50%;}#sk-container-id-1 div.sk-parallel-item:last-child::after {align-self: flex-start;width: 50%;}#sk-container-id-1 div.sk-parallel-item:only-child::after {width: 0;}#sk-container-id-1 div.sk-dashed-wrapped {border: 1px dashed gray;margin: 0 0.4em 0.5em 0.4em;box-sizing: border-box;padding-bottom: 0.4em;background-color: white;}#sk-container-id-1 div.sk-label label {font-family: monospace;font-weight: bold;display: inline-block;line-height: 1.2em;}#sk-container-id-1 div.sk-label-container {text-align: center;}#sk-container-id-1 div.sk-container {/* jupyter's `normalize.less` sets `[hidden] { display: none; }` but bootstrap.min.css set `[hidden] { display: none !important; }` so we also need the `!important` here to be able to override the default hidden behavior on the sphinx rendered scikit-learn.org. See: https://github.com/scikit-learn/scikit-learn/issues/21755 */display: inline-block !important;position: relative;}#sk-container-id-1 div.sk-text-repr-fallback {display: none;}</style><div id=\"sk-container-id-1\" class=\"sk-top-container\"><div class=\"sk-text-repr-fallback\"><pre>LinearRegression()</pre><b>In a Jupyter environment, please rerun this cell to show the HTML representation or trust the notebook. <br />On GitHub, the HTML representation is unable to render, please try loading this page with nbviewer.org.</b></div><div class=\"sk-container\" hidden><div class=\"sk-item\"><div class=\"sk-estimator sk-toggleable\"><input class=\"sk-toggleable__control sk-hidden--visually\" id=\"sk-estimator-id-1\" type=\"checkbox\" checked><label for=\"sk-estimator-id-1\" class=\"sk-toggleable__label sk-toggleable__label-arrow\">LinearRegression</label><div class=\"sk-toggleable__content\"><pre>LinearRegression()</pre></div></div></div></div></div>"
      ],
      "text/plain": [
       "LinearRegression()"
      ]
     },
     "execution_count": 34,
     "metadata": {},
     "output_type": "execute_result"
    }
   ],
   "source": [
    "x_val=['store', 'temperature',\n",
    "       'week', 'unemployment','fuel_price','cpi','month']\n",
    "y_val=['weekly_sales']\n",
    "X_train = data[x_val]\n",
    "Y_train = data[y_val]\n",
    "X_test = data[x_val]\n",
    "Y_test = data[y_val]\n",
    "\n",
    "from sklearn.linear_model import LinearRegression\n",
    "\n",
    "lm=LinearRegression()\n",
    "lm.fit(X_train,Y_train)"
   ]
  },
  {
   "cell_type": "markdown",
   "id": "88270571",
   "metadata": {},
   "source": [
    "The code snippet initializes training data X_train and Y_train by selecting specific columns from the dataset. It then fits a Linear Regression model lm to the training data using lm.fit(X_train, Y_train). This process trains the model to learn the relationship between the input features (X_train) and the target variable (Y_train). The trained model can then be used to make predictions on new data."
   ]
  },
  {
   "cell_type": "code",
   "execution_count": 35,
   "id": "d95c258d",
   "metadata": {},
   "outputs": [
    {
     "name": "stdout",
     "output_type": "stream",
     "text": [
      "[1858612.17747583]\n"
     ]
    }
   ],
   "source": [
    "print(lm.intercept_)"
   ]
  },
  {
   "cell_type": "markdown",
   "id": "b20cad80",
   "metadata": {},
   "source": [
    "By executing these commands, you can gain insights into the model's intercept,"
   ]
  },
  {
   "cell_type": "markdown",
   "id": "16ea6470",
   "metadata": {},
   "source": [
    "To access the intercept in a linear regression model in Python, you can use the intercept_ attribute of the linear regression model object.\n",
    "By using lm.intercept_, you can retrieve the intercept value of the linear regression model."
   ]
  },
  {
   "cell_type": "code",
   "execution_count": 36,
   "id": "df81e9d0",
   "metadata": {},
   "outputs": [
    {
     "data": {
      "text/plain": [
       "array([[-15433.20456386,  -1893.71618298,  -8759.84824122,\n",
       "        -19775.9274579 ,  21252.85301724,  -2197.04878706,\n",
       "         53995.14071472]])"
      ]
     },
     "execution_count": 36,
     "metadata": {},
     "output_type": "execute_result"
    }
   ],
   "source": [
    "lm.coef_"
   ]
  },
  {
   "cell_type": "markdown",
   "id": "719050cb",
   "metadata": {},
   "source": [
    "\n",
    " coefficients, make predictions,"
   ]
  },
  {
   "cell_type": "code",
   "execution_count": 37,
   "id": "378879a9",
   "metadata": {},
   "outputs": [
    {
     "data": {
      "text/plain": [
       "Index(['store', 'temperature', 'week', 'unemployment', 'fuel_price', 'cpi',\n",
       "       'month'],\n",
       "      dtype='object')"
      ]
     },
     "execution_count": 37,
     "metadata": {},
     "output_type": "execute_result"
    }
   ],
   "source": [
    "X_train.columns"
   ]
  },
  {
   "cell_type": "code",
   "execution_count": 38,
   "id": "ce8addd8",
   "metadata": {},
   "outputs": [],
   "source": [
    "prediction=lm.predict(X_test)"
   ]
  },
  {
   "cell_type": "code",
   "execution_count": 39,
   "id": "39ff4644",
   "metadata": {},
   "outputs": [
    {
     "data": {
      "text/plain": [
       "array([[1257816.55368354],\n",
       "       [1255422.40326629],\n",
       "       [1243147.67885028],\n",
       "       ...,\n",
       "       [ 732825.94449768],\n",
       "       [ 719611.94067829],\n",
       "       [ 704544.28657432]])"
      ]
     },
     "execution_count": 39,
     "metadata": {},
     "output_type": "execute_result"
    }
   ],
   "source": [
    "prediction"
   ]
  },
  {
   "cell_type": "code",
   "execution_count": 40,
   "id": "50b2bb54",
   "metadata": {},
   "outputs": [
    {
     "data": {
      "text/html": [
       "<div>\n",
       "<style scoped>\n",
       "    .dataframe tbody tr th:only-of-type {\n",
       "        vertical-align: middle;\n",
       "    }\n",
       "\n",
       "    .dataframe tbody tr th {\n",
       "        vertical-align: top;\n",
       "    }\n",
       "\n",
       "    .dataframe thead th {\n",
       "        text-align: right;\n",
       "    }\n",
       "</style>\n",
       "<table border=\"1\" class=\"dataframe\">\n",
       "  <thead>\n",
       "    <tr style=\"text-align: right;\">\n",
       "      <th></th>\n",
       "      <th>weekly_sales</th>\n",
       "    </tr>\n",
       "  </thead>\n",
       "  <tbody>\n",
       "    <tr>\n",
       "      <th>0</th>\n",
       "      <td>1,643,691</td>\n",
       "    </tr>\n",
       "    <tr>\n",
       "      <th>1</th>\n",
       "      <td>1,641,957</td>\n",
       "    </tr>\n",
       "    <tr>\n",
       "      <th>2</th>\n",
       "      <td>1,611,968</td>\n",
       "    </tr>\n",
       "    <tr>\n",
       "      <th>3</th>\n",
       "      <td>1,409,728</td>\n",
       "    </tr>\n",
       "    <tr>\n",
       "      <th>4</th>\n",
       "      <td>1,554,807</td>\n",
       "    </tr>\n",
       "    <tr>\n",
       "      <th>...</th>\n",
       "      <td>...</td>\n",
       "    </tr>\n",
       "    <tr>\n",
       "      <th>6430</th>\n",
       "      <td>713,174</td>\n",
       "    </tr>\n",
       "    <tr>\n",
       "      <th>6431</th>\n",
       "      <td>733,455</td>\n",
       "    </tr>\n",
       "    <tr>\n",
       "      <th>6432</th>\n",
       "      <td>734,464</td>\n",
       "    </tr>\n",
       "    <tr>\n",
       "      <th>6433</th>\n",
       "      <td>718,126</td>\n",
       "    </tr>\n",
       "    <tr>\n",
       "      <th>6434</th>\n",
       "      <td>760,281</td>\n",
       "    </tr>\n",
       "  </tbody>\n",
       "</table>\n",
       "<p>6435 rows × 1 columns</p>\n",
       "</div>"
      ],
      "text/plain": [
       "      weekly_sales\n",
       "0        1,643,691\n",
       "1        1,641,957\n",
       "2        1,611,968\n",
       "3        1,409,728\n",
       "4        1,554,807\n",
       "...            ...\n",
       "6430       713,174\n",
       "6431       733,455\n",
       "6432       734,464\n",
       "6433       718,126\n",
       "6434       760,281\n",
       "\n",
       "[6435 rows x 1 columns]"
      ]
     },
     "execution_count": 40,
     "metadata": {},
     "output_type": "execute_result"
    }
   ],
   "source": [
    "Y_test"
   ]
  },
  {
   "cell_type": "code",
   "execution_count": 41,
   "id": "dec1909c",
   "metadata": {},
   "outputs": [
    {
     "data": {
      "text/plain": [
       "<matplotlib.collections.PathCollection at 0x22d7568a0d0>"
      ]
     },
     "execution_count": 41,
     "metadata": {},
     "output_type": "execute_result"
    },
    {
     "data": {
      "image/png": "[encoded data removed]",
      "text/plain": [
       "<Figure size 640x480 with 1 Axes>"
      ]
     },
     "metadata": {},
     "output_type": "display_data"
    }
   ],
   "source": [
    "plt.scatter(Y_test,prediction)"
   ]
  },
  {
   "cell_type": "markdown",
   "id": "1da38047",
   "metadata": {},
   "source": [
    " visualize the relationship between predicted and actual values."
   ]
  },
  {
   "cell_type": "code",
   "execution_count": 42,
   "id": "388ca5cc",
   "metadata": {},
   "outputs": [
    {
     "name": "stderr",
     "output_type": "stream",
     "text": [
      "c:\\Users\\HP\\anaconda3\\Lib\\site-packages\\seaborn\\axisgrid.py:118: UserWarning: The figure layout has changed to tight\n",
      "  self._figure.tight_layout(*args, **kwargs)\n"
     ]
    },
    {
     "data": {
      "text/plain": [
       "<seaborn.axisgrid.FacetGrid at 0x22d74b11cd0>"
      ]
     },
     "execution_count": 42,
     "metadata": {},
     "output_type": "execute_result"
    },
    {
     "data": {
      "image/png": "[encoded data removed]",
      "text/plain": [
       "<Figure size 640.875x500 with 1 Axes>"
      ]
     },
     "metadata": {},
     "output_type": "display_data"
    }
   ],
   "source": [
    "sns.displot((Y_test-prediction))"
   ]
  },
  {
   "cell_type": "code",
   "execution_count": 43,
   "id": "0c939068",
   "metadata": {},
   "outputs": [
    {
     "data": {
      "text/plain": [
       "<Axes: ylabel='Count'>"
      ]
     },
     "execution_count": 43,
     "metadata": {},
     "output_type": "execute_result"
    },
    {
     "data": {
      "image/png": "[encoded data removed]",
      "text/plain": [
       "<Figure size 640x480 with 1 Axes>"
      ]
     },
     "metadata": {},
     "output_type": "display_data"
    }
   ],
   "source": [
    "sns.histplot((Y_test-prediction))"
   ]
  },
  {
   "cell_type": "code",
   "execution_count": 44,
   "id": "d8371e50",
   "metadata": {},
   "outputs": [
    {
     "name": "stdout",
     "output_type": "stream",
     "text": [
      "MAE:  429750.7648425463\n",
      "MSE:  271124838336.07242\n",
      "RMSE:  520696.49349316\n"
     ]
    }
   ],
   "source": [
    "from sklearn import metrics\n",
    "print(\"MAE: \",metrics.mean_absolute_error(Y_test,prediction))\n",
    "print(\"MSE: \",metrics.mean_squared_error(Y_test,prediction))\n",
    "print(\"RMSE: \",np.sqrt(metrics.mean_squared_error(Y_test,prediction)))"
   ]
  },
  {
   "cell_type": "markdown",
   "id": "0207443d",
   "metadata": {},
   "source": [
    "By utilizing the metrics module from scikit-learn, you can easily compute these metrics to evaluate the performance of your regression model."
   ]
  },
  {
   "cell_type": "code",
   "execution_count": 45,
   "id": "5f43720e",
   "metadata": {},
   "outputs": [
    {
     "data": {
      "text/plain": [
       "1046964.8775617715"
      ]
     },
     "execution_count": 45,
     "metadata": {},
     "output_type": "execute_result"
    }
   ],
   "source": [
    "np.mean(data['weekly_sales'])"
   ]
  },
  {
   "cell_type": "markdown",
   "id": "2e3b5246",
   "metadata": {},
   "source": [
    "By utilizing NumPy's np.mean() function, you can efficiently compute the average value of the 'weekly_sales' column in your dataset."
   ]
  },
  {
   "cell_type": "markdown",
   "id": "9f1e95c7",
   "metadata": {},
   "source": []
  }
 ],
 "metadata": {
  "kaggle": {
   "accelerator": "none",
   "dataSources": [
    {
     "datasetId": 4438189,
     "sourceId": 7619692,
     "sourceType": "datasetVersion"
    }
   ],
   "dockerImageVersionId": 30646,
   "isGpuEnabled": false,
   "isInternetEnabled": true,
   "language": "python",
   "sourceType": "notebook"
  },
  "kernelspec": {
   "display_name": "Python 3 (ipykernel)",
   "language": "python",
   "name": "python3"
  },
  "language_info": {
   "codemirror_mode": {
    "name": "ipython",
    "version": 3
   },
   "file_extension": ".py",
   "mimetype": "text/x-python",
   "name": "python",
   "nbconvert_exporter": "python",
   "pygments_lexer": "ipython3",
   "version": "0.0.0"
  },
  "papermill": {
   "default_parameters": {},
   "duration": 8.103444,
   "end_time": "2024-02-16T17:10:36.683436",
   "environment_variables": {},
   "exception": null,
   "input_path": "__notebook__.ipynb",
   "output_path": "__notebook__.ipynb",
   "parameters": {},
   "start_time": "2024-02-16T17:10:28.579992",
   "version": "2.5.0"
  }
 },
 "nbformat": 4,
 "nbformat_minor": 5
}
